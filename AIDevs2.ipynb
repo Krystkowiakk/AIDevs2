{
 "cells": [
  {
   "cell_type": "markdown",
   "metadata": {},
   "source": [
    "## AIDevs2 tasks from newest at the top to oldest at the bottom ,updated daily, to be cleaned ;)"
   ]
  },
  {
   "cell_type": "code",
   "execution_count": 1,
   "metadata": {},
   "outputs": [],
   "source": [
    "import io\n",
    "import json\n",
    "import numpy as np\n",
    "import pandas as pd\n",
    "import requests\n",
    "from utilities.common import OpenAIClient, AIDevsClient\n",
    "from utilities.config import AI_DEVS_SERVER, AI_DEVS_API_KEY, OPEN_AI_API_KEY, RENDER_FORM_API_KEY, SERP_API_KEY, qdrant_url\n",
    "\n",
    "BASE_URL = AI_DEVS_SERVER\n",
    "\n",
    "OpenAIClient = OpenAIClient(api_key=OPEN_AI_API_KEY)\n",
    "AIDevs_Client = AIDevsClient(base_url=BASE_URL, api_key=AI_DEVS_API_KEY)"
   ]
  },
  {
   "cell_type": "markdown",
   "metadata": {},
   "source": [
    "# google\n",
    "\n",
    "Do jego wykonania będziesz potrzebować darmowego konta w usłudze SerpAPI. Celem zadania jest samodzielne zaimplementowanie rozwiązania podobnego do tego, znanego z ChatGPT Plus, gdzie po wpisaniu zapytania na temat, o którym model nie ma pojęcia, uruchamiana jest wyszukiwarka BING. My posłużymy się wyszukiwarką Google, a Twój skrypt będzie wyszukiwał odpowiedzi na pytania automatu sprawdzającego i będzie zwracał je w czytelnej dla człowieka formie. 1) Send the URL to your own API to /answer/ endpoint in the following format:\n",
    "\n",
    "{\n",
    " \"answer\":\"https://anything.you.want.com/v1/some/api/whatever\"}\n",
    "}\n",
    "\n",
    "_____________________________________\n",
    "\n",
    "2) Our system will send question to Your API via the provided URL and POST method. We will send JSON:\n",
    "\n",
    "{\n",
    " \"question\":\"give me URL to polish portal called Onet\"\n",
    "}\n",
    "\n",
    "\n",
    "\n",
    "_____________________________________\n",
    "\n",
    "3) Your system has to answer in the provided format:\n",
    "\n",
    "{\n",
    " \"reply\":\"this is the answer to our question\"\n",
    "}\n",
    "\n",
    "IMPORTANT: answer is always an URL. Do not send whole HTML code or sentence\n",
    "\n",
    "_____________________________________\n",
    "\n",
    "P.S. You will sometimes get 'tricky' questions that can break JSON format - be prepared!"
   ]
  },
  {
   "cell_type": "code",
   "execution_count": 67,
   "metadata": {},
   "outputs": [
    {
     "data": {
      "text/plain": [
       "{'code': 0,\n",
       " 'msg': 'Provide me the URL to your API (HTTPS) via /answer/ endpoint. I will ask your API a question that requires search engine integration. Your job is to provide me answer to my question',\n",
       " 'hint1': 'Please use SerpAPI or similar service. https://serpapi.com (free account is enough)',\n",
       " 'hint2': 'Probably I will ask more than one question, so be prepared for that',\n",
       " 'hint3': 'Please return the answer in JSON format, with \"reply\" field!',\n",
       " 'hint4': 'Return as concise an answer as possible'}"
      ]
     },
     "execution_count": 67,
     "metadata": {},
     "output_type": "execute_result"
    }
   ],
   "source": [
    "task_name = \"google\"\n",
    "\n",
    "token = AIDevs_Client.get_token(task_name)['token']\n",
    "task = AIDevs_Client.get_task(token)\n",
    "\n",
    "task"
   ]
  },
  {
   "cell_type": "code",
   "execution_count": 13,
   "metadata": {},
   "outputs": [
    {
     "name": "stdout",
     "output_type": "stream",
     "text": [
      "Found URL: https://mrugalski.pl/newsletter.html\n",
      "Found URL: https://unknow.news/\n",
      "Found URL: https://mrugalski.pl/\n",
      "Found URL: https://pl.linkedin.com/posts/unknow_to-jest-webowa-wersja-newslettera-na-kt%C3%B3ry-activity-6976422709182279680-7WQf?trk=public_profile_like_view\n",
      "Found URL: https://pl.linkedin.com/posts/unknow_to-jest-webowa-wersja-newslettera-na-kt%C3%B3ry-activity-6991663044590227456-vDCb?trk=public_profile_like_view\n",
      "Found URL: https://www.instagram.com/uwteam_org/?hl=en\n",
      "Found URL: https://patronite.pl/unknow\n",
      "Found URL: https://talentnetwork.pl/mentorzy/jakub-mrugalski/\n",
      "Found URL: https://twitter.com/uwteam/status/1564874514860834817\n"
     ]
    }
   ],
   "source": [
    "# SerpAPI test\n",
    "\n",
    "# The search query\n",
    "query = 'newsletter prowadzony przez Jakuba Mrugalskiego'\n",
    "\n",
    "# Construct the URL with the necessary parameters\n",
    "url = f'https://serpapi.com/search?engine=google&q={query}&api_key={SERP_API_KEY}'\n",
    "\n",
    "# Sending a GET request\n",
    "response = requests.get(url)\n",
    "\n",
    "# Check if the request was successful\n",
    "if response.status_code == 200:\n",
    "    # Parse the response body as JSON\n",
    "    response_json = response.json()\n",
    "    \n",
    "    # Extracting specific URLs\n",
    "    # Assuming 'organic_results' contains the search results\n",
    "    if 'organic_results' in response_json:\n",
    "        for result in response_json['organic_results']:\n",
    "            if 'link' in result:\n",
    "                print('Found URL:', result['link'])\n",
    "    else:\n",
    "        print('No organic results found in the response.')\n",
    "else:\n",
    "    print('Failed to get a successful response')\n"
   ]
  },
  {
   "cell_type": "code",
   "execution_count": 30,
   "metadata": {},
   "outputs": [
    {
     "data": {
      "text/plain": [
       "'https://mrugalski.pl › newsletter'"
      ]
     },
     "execution_count": 30,
     "metadata": {},
     "output_type": "execute_result"
    }
   ],
   "source": [
    "response_json['organic_results'][0]['displayed_link']"
   ]
  },
  {
   "cell_type": "code",
   "execution_count": 24,
   "metadata": {},
   "outputs": [],
   "source": [
    "# api has been created in make.com\n",
    "\n",
    "webhook_url = 'https://hook.eu2.make.com/lqjtbvf7cw7xm6h44v88mu6p491np59f'"
   ]
  },
  {
   "cell_type": "markdown",
   "metadata": {},
   "source": [
    "![Alt text](make_com_sollutions/make_schema_google.png)"
   ]
  },
  {
   "cell_type": "code",
   "execution_count": 66,
   "metadata": {},
   "outputs": [
    {
     "name": "stdout",
     "output_type": "stream",
     "text": [
      "Status Code: 200\n",
      "Response Body: {\"reply\":\"https://mrugalski.pl/newsletter.html\"}\n"
     ]
    }
   ],
   "source": [
    "# api test\n",
    "\n",
    "data = {\n",
    "    'question': 'newsletter prowadzony przez Jakuba Mrugalskiego?'\n",
    "}\n",
    "\n",
    "# Sending a POST request\n",
    "response = requests.post(webhook_url, json=data)\n",
    "\n",
    "# Print the response from the server\n",
    "print('Status Code:', response.status_code)\n",
    "print('Response Body:', response.text)"
   ]
  },
  {
   "cell_type": "code",
   "execution_count": 68,
   "metadata": {},
   "outputs": [
    {
     "data": {
      "text/plain": [
       "{'code': 0,\n",
       " 'msg': 'OK',\n",
       " 'note': 'CORRECT',\n",
       " 'history': ['Portal niebezpiecznik.pl napisał kiedyś artykuł na temat zastrzegania numeru pesel. Możesz zwrócić mi adres URL do niego? Tylko potrzebuję do tego najnowszego.',\n",
       "  'Szukam adresu strony na której mogę\\xa0się\\xa0zapisać\\xa0na newsletter prowadzony przez Jakuba Mrugalskiego. To jakiś\\xa0newsletter technologiczny, ale nie pamietam nazwy.']}"
      ]
     },
     "execution_count": 68,
     "metadata": {},
     "output_type": "execute_result"
    }
   ],
   "source": [
    "AIDevs_Client.submit_answer(token, webhook_url)"
   ]
  },
  {
   "cell_type": "markdown",
   "metadata": {},
   "source": [
    "# optimaldb\n",
    "\n",
    "Masz dostarczoną bazę danych o rozmiarze ponad 30kb. https://zadania.aidevs.pl/data/3friends.json Musisz zoptymalizować ją w taki sposób, aby automat korzystający z niej, a mający pojemność pamięci ustawioną na 9kb był w stanie odpowiedzieć na 6 losowych pytań na temat trzech osób znajdujących się w bazie. Zoptymalizowaną bazę wyślij do endpointa /answer/ jako zwykły string. Automat użyje jej jako fragment swojego kontekstu i spróbuje odpowiedzieć na pytania testowe. Wyzwanie polega na tym, aby nie zgubić żadnej informacji i nie zapomnieć kogo ona dotyczy oraz aby zmieścić się w wyznaczonym limicie rozmiarów bazy."
   ]
  },
  {
   "cell_type": "code",
   "execution_count": 3,
   "metadata": {},
   "outputs": [
    {
     "data": {
      "text/plain": [
       "{'code': 0,\n",
       " 'msg': 'In a moment you will receive from me a database on three people. It is over 30kb in size. You need to prepare me for an exam in which I will be questioned on this database. Unfortunately, the capacity of my memory is just 9kb. Send me the optimised database',\n",
       " 'database': 'https://zadania.aidevs.pl/data/3friends.json',\n",
       " 'hint': 'I will use GPT-3.5-turbo to answer all test questions'}"
      ]
     },
     "execution_count": 3,
     "metadata": {},
     "output_type": "execute_result"
    }
   ],
   "source": [
    "task_name = \"optimaldb\"\n",
    "\n",
    "token = AIDevs_Client.get_token(task_name)['token']\n",
    "task = AIDevs_Client.get_task(token)\n",
    "\n",
    "task"
   ]
  },
  {
   "cell_type": "code",
   "execution_count": 4,
   "metadata": {},
   "outputs": [
    {
     "name": "stdout",
     "output_type": "stream",
     "text": [
      "{\n",
      "    \"zygfryd\": [\n",
      "        \"Podczas ostatniej konferencji technologicznej, program który stworzył Zygfryd wygrał nagrodę za innowacyjność w użyciu JavaScript.\",\n",
      "        \"Wielu nie wie, ale ulubionym instrumentem muzycznym Zygfryda jest ukulele, na którym gra po nocach, kiedy kodowanie na dziś się skończy.\",\n",
      "        \"Zygfryd, oprócz programowania, interesuje się również hodowlą roślin doniczkowych, a wśród jego zbiorów można znaleźć rzadki gatunek storczyka.\",\n",
      "        \"Łamigłówki logiczne toż to pasja Zygfryda, który często bierze udział w konkursach z tej dziedziny i zdobywa wysokie lokaty.\",\n",
      "        \"Kiedy zapytasz go o ulubioną grę planszową, Zygfryd bez wahania odpowie, że jest nią 'Terra Mystica'.\",\n",
      "        \"W zeszłym roku Zygfryd odbył pieszą wędrówkę po górach a jego Instagram wypełniony jest zdjęciami z tej podróży.\",\n",
      "        \"Mało osób wie, że Zygfryd był kiedyś mistrzem ortografii w szkole podstawowej.\",\n",
      "        \"W lokalnym maratonie programistycznym to właśnie aplikacja mobilna zaprojektowana przez Zygfryda zgarnęła pierwsze miejsce.\",\n",
      "        \"Jeden z ulubionych filmów Zygfryda to 'Matrix', który ogląda co najmniej dwa razy do roku.\",\n",
      "        \"Na polskiej scenie stand-up, Zygfryd znany jest jako osoba z doskonałym poczuciem humoru, choć występuje tam jedynie amatorsko.\",\n",
      "        \"W palecie barw preferowanych przez Zygfryda zdecydowanie dominuje niebieski – mówi, że uspokaja go podczas kodowania skomplikowanych algorytmów.\",\n",
      "        \"Mimo że uwielbia pizzę z ananase\n"
     ]
    }
   ],
   "source": [
    "# URL of the JSON data\n",
    "url = 'https://zadania.aidevs.pl/data/3friends.json'\n",
    "\n",
    "# Function to download and load JSON data\n",
    "def load_json_data(url):\n",
    "    response = requests.get(url)\n",
    "    if response.status_code == 200:\n",
    "        return response.json()\n",
    "    else:\n",
    "        raise Exception(f\"Failed to download data: Status code {response.status_code}\")\n",
    "\n",
    "# Load the data\n",
    "json_data = load_json_data(url)\n",
    "\n",
    "# Print a sample of the data to understand its structure\n",
    "print(json.dumps(json_data, indent=4, ensure_ascii=False)[:1500])  # Print first 500 characters\n"
   ]
  },
  {
   "cell_type": "code",
   "execution_count": 5,
   "metadata": {},
   "outputs": [
    {
     "name": "stdout",
     "output_type": "stream",
     "text": [
      "['Podczas ostatniej konferencji technologicznej, program który stworzył wygrał nagrodę innowacyjność użyciu JavaScript.', 'Wielu wie, ulubionym instrumentem muzycznym ukulele, którym gra nocach, kiedy kodowanie dziś skończy.', 'oprócz programowania, interesuje również hodowlą roślin doniczkowych, wśród jego zbiorów można znaleźć rzadki gatunek storczyka.', 'Łamigłówki logiczne toż pasja który często bierze udział konkursach tej dziedziny zdobywa wysokie lokaty.', \"Kiedy zapytasz go ulubioną grę planszową, bez wahania odpowie, nią 'Terra Mystica'.\", 'zeszłym roku odbył pieszą wędrówkę górach jego Instagram wypełniony zdjęciami tej podróży.', 'Mało osób wie, był kiedyś mistrzem ortografii szkole podstawowej.', 'lokalnym maratonie programistycznym właśnie aplikacja mobilna zaprojektowana przez zgarnęła pierwsze miejsce.', \"Jeden ulubionych filmów 'Matrix', który ogląda najmniej dwa razy roku.\", 'polskiej scenie stand-up, znany jako osoba doskonałym poczuciem humoru, choć występuje tam jedynie amatorsko.', 'palecie barw preferowanych przez zdecydowanie dominuje niebieski – mówi, uspokaja go podczas kodowania skomplikowanych algorytmów.', 'Mimo uwielbia pizzę ananasem, prowadzi warsztaty kulinarnie, których promuje zdrowe odżywianie.', 'dzieciństwie brał lekcje gry skrzypcach, które jednak porzucił rzecz swojej pasji komputerów.', 'Jako zawzięty fan piłki nożnej, nigdy przegapia meczu swojej ulubionej drużyny.', 'Kolekcji markowych zegarków mogłaby pozazdrościć niejedna osoba interesująca zegarmistrzostwem.', 'Każdego dnia spędza najmniej pół godziny nauce nowego języka obcego – obecnie szlifuje swój hiszpański.', 'był jednym pierwszych programistów Polsce, którzy zaczęli tworzyć aplikacje pomocą frameworka Vue.js.', 'rodzinnej miejscowości każdy zna go jako założyciela lokalnego klubu programistycznego.', 'swój weselny taniec, wybrał klasycznego tanga, którego długo uczęszczał lekcje.', 'Podczas gdy wielu programistów obstaje przy kawie, wybiera zieloną herbatę jako swój napój energetyzujący.', 'Choć programuje JavaScript, ma również certyfikaty kilku innych języków programowania.', 'Podobno młodości grał zespole rockowym, gdzie był gitarzystą.', \"jego domowej bibliotece znajduje pokaźna kolekcja powieści science fiction, 'Diuną' Franza Herberta czele.\", 'Często jeździ weekendowe wycieczki rowerowe, aby odprężyć intensywnym tygodniu pracy programistycznej.', 'Dumnie przedstawia swoje umiejętności sztukach walki, którym oddaje regularnie, ćwicząc aikido.', 'Przyjaciele wiedzą, najlepszym prezentem dla będzie nowy gadżet technologiczny, który może wykorzystać pracy lub hobby.', 'Wśród ulubionych gier wideo królują strategiczne RPGi, gdzie może pokazać swoje umiejętności planowania.', \"Nieczęsto spotykane hobby modelarstwo – szczególną uwagę przykuwa jego model statku kosmicznego 'Enterprise'.\", 'kolekcji winylowych płyt można wywnioskować, on wielkim fanem klasycznego rocka.', 'Jako wielki miłośnik kosmosu, ma aplikację telefonie, która informuje go nadchodzących przejściach Międzynarodowej Stacji Kosmicznej.', 'wolnym czasie prowadzi bloga, którym dzieli swoimi doświadczeniami jako mentor programistyczny.', 'Współtworzony przez startup technologiczny otrzymał niedawno ważną nagrodę branżową.', 'Rocznicę swojego imienia zawsze obchodzi, organizując wielki festyn grillowy dla przyjaciół rodziny.', 'Podczas burz mózgów pracy, właśnie często rzuca najbardziej kreatywne oryginalne pomysły.', 'Choć uchodzi miłośnika technologii, roku ucieka dzikie rejony Polski, aby oderwać od cyfrowego świata.', 'Być może wszyscy wiedzą, biegle posługuje językiem migowym, którego uczył się, aby komunikować kolegą pracy.', 'prywatnej winiarni można znaleźć wyselekcjonowane butelki całego świata, jego hobby enologia.', 'Ludzie często proszą pomoc przy naprawie starych komputerów, gdyż znany ze swoich umiejętności odzyskiwaniu danych.', 'ma talent rysowania projektowania, widać grafikach, które przygotowuje swoich aplikacji webowych.', 'Pewnym jest, zawsze będzie wspominał wakacje Hawajach jako jedne najlepszych swoim życiu – surfing jego nowa pasja.', 'Chociaż przełomowe odkrycie dziedzinie kodowania przyniosło rozpoznawalność, pozostaje skromny pomocny dla innych.', 'rzeczywistości ma niezawodne umiejętności organizacyjne, które przejawiają podczas koordynowania złożonych projektów programistycznych.', 'swoim blogu JavaScript, regularnie publikuje wskazówki dla początkujących programistów, dzieląc własnymi doświadczeniami.', 'Wieczory poświęcone rozwijaniu własnych projektów gier indie, dla prawdziwa pasja odskocznia od codziennych obowiązków.', 'Eksplorując wirtualną rzeczywistość, bada nowe sposoby wykorzystania tej technologii edukacji programistycznej.', \"kolekcji komiksów półce honorowe miejsce zajmuje pełna seria 'Watchmen' Alana Moore'a.\", 'Jako dziecko, marzył, aby zostać astronautą; obecnie jego zawód pozwala mu rozwijać oprogramowanie dla branży kosmicznej.', 'swojej pracy nad sztuczną inteligencją, skupia tworzeniu etycznych algorytmów, które będą służyć społeczeństwu.', 'Obsesją od zawsze było poszukiwanie życia pozaziemskiego, odbija także jego projektach programistycznych.', 'Podczas gdy niektórzy programiści są nocturnal, wstaje świcie, argumentując, wtedy jego umysł najbardziej kreatywny.', 'Założone przez warsztaty kodowania dla dzieci stały popularne jego mieście przyciągają coraz więcej młodych talentów.', 'jeden weekendów skonstruował drona, który teraz wykorzystuje filmowania pięknych pejzaży.', 'Jednym większych sukcesów stworzenie otwartej platformy edukacyjnej, która pomaga innym nauczyć programowania.', 'czasem opowiada swoim dziadku, który był wynalazcą stąd wzięła jego fascynacja technologią.', 'Miłośnicy fotografii cenią zdjęcia autorstwa które ukazują unikalne perspektywy miejskich krajobrazów.', 'Podróżując, zawsze stara odwiedzić lokalne muzea sztuki, aby poszerzać swoje horyzonty estetyczne.', 'Aktywny udział organizacjach charytatywnych pomógł zebrać fundusze komputery dla lokalnej szkoły.', 'każdy wie, kiedyś śpiewał chórze akademickim posiada nagrania swoich solowych występów.', 'Podczas gdy wielu programistów korzysta ogólnodostępnych bibliotek, lubi tworzyć swoje własne, dostosowane specyficznych potrzeb projektów.', 'można spotkać wielu meet-upach programistycznych, gdzie dzieli swoimi przemyśleniami temat przyszłości języka JavaScript.', 'Często tak, kiedy ugrzęźnie projekcie programistycznym, pomocą przychodzi jego ukochany kot.', 'Szwankujący robot kuchenny stał dla pretekstem zgłębienia tajników elektroniki robotyki.', 'Zachwyt nad astronomią widoczny nawet nazewnictwie jego projektów programistycznych, nawiązujących kosmicznych terminów.', 'Dzięki swoim umiejętnościom językowym, tłumaczył dokumentację techniczną polski, pomagając lokalnej społeczności IT.', \"Lojalność open-source'owych projektów znana wśród jego kolegów, którzy często zwracają niego radę.\", 'półmaratonie swoim mieście, zajął miejsce pierwszej dziesiątce, uznaje swój osobisty sukces kondycyjny.', 'Podczas wykopalisk archeologicznych, których brał udział jako wolontariusz, odkryto nieznane dotąd artefakty czasów średniowiecza.', 'Jako ekspert JavaScript, często zapraszany recenzowania książek przed ich wydaniem.', 'swojej karierze programistycznej, zdobył doświadczenie pracy zarówno dla małych start-upów, wielkich korporacji IT.', 'Magia obca – on też amatorem iluzji potrafi zaskoczyć znajomych niesamowitymi sztuczkami karcianymi.', 'Wysoki poziom empatii sprawia, ceniony wśród współpracowników również jako wsparcie trudnych momentach.', 'Mało kto zna tajemnicze hobby – on kolekcjonerem wyjątkowych edycji starodruków.', 'Dla wielu współpracowników chodzącą encyklopedią – ma niesamowitą umiejętność zapamiętywania faktów różnych dziedzin.', 'Chociaż dzień programistą, od czasu czasu pracuje jako barista, by doskonalić swoje umiejętności latte art.', 'doskonale wyczuwa trend, nieocenioną umiejętnością przy projektowaniu interfejsów użytkownika, które zawsze są czasie.', 'Często godzinach pomaga młodym pasjonatom informatyki, organizując kursy kodowania.', 'listę jego największych osiągnięć zawodowych, zalicza stworzenie biblioteki języka JavaScript, która ułatwia dostępność stron internetowych.', 'Codziennie rejestruje swoje pomysły inspiracje specjalnie prowadzonym dzienniku kreatywnym.', 'Światło księżyca inspirowało zaprojektowania aplikacji mobilnej, która pomaga obserwować fazy księżycowe.', 'ma pełną ścianę swoim biurze poświęconą demotywatorom zaskakującymi humorousistycznymi cytatami programowaniu.', 'jego niewyczerpanymi zasobami ciekawostek, często życiem imprezy, zwłaszcza gdy imprezy dotyczą technologii.', 'Przyjaciele uważają mistrza gier VR, których często bije rekordy zachwyca swoją zręcznością']\n",
      "['każdą środę organizuje konkurs najdłuższego zjedzonego hot doga sklepie Żabka.', 'pracy sklepie Żabka, regularnie przemierza 5 kilometrów, aby dotrzeć siłownię.', 'Znane to, potrafi wycisnąć sztangę masie równającej jego własnemu ciężarowi.', 'marzy tym, aby pewnego dnia otworzyć własną siłownię hot dogami jako punktem energetycznym.', 'Jamnik, który ozdabia skórę tatuaż, który symbolizuje jego miłość wiernego psa dzieciństwa.', 'Część dochodów ze sprzedaży hot dogów, przeznacza wsparcie lokalnego schroniska dla zwierząt.', 'Gdy widzi nowego klienta sklepie Żabka, zawsze doradza mu, który sos najlepiej pasuje hot doga.', 'Kiedyś brał udział amatorskich zawodach kulturystycznych, zajmując trzecie miejsce kategorii debiutantów.', 'wolnych chwilach, tworzy bloga, którym dzieli wskazówkami dotyczącymi efektywnych treningów biceps.', \"został wybrany 'Sprzedawcą Miesiąca' sieci sklepów Żabka aż pięć razy ciągu ostatniego roku.\", 'Miłość hot dogów u zrodziła już szkole, gdzie wygrywał konkursy jedzenia hot dogów.', 'Podczas wakacji chętnie uczestniczy festiwalach kulinarnych, których sprzedaje swoje autorskie hot dogi.', 'Tajemnicą kulinarnej popularności hot dogów specjalna mieszanka przypraw, której składników zdradza.', 'ma planach wziąć udział ogólnopolskich zawodach wyciskaniu sztangi nadchodzącym roku.', 'Regularne mierzenie obwodu bicepsa pomaga monitorowaniu postępów siłowni.', 'urodziny, zazwyczaj otrzymuje od znajomych gadżety związane kulturystyką hot dogami.', 'lokalnym bohaterem, ponieważ kiedyś uratował kotka uwięzionego drzewie podczas przerwy pracy.', 'kolekcji znajduje ponad 30 par rękawic treningu, które są jego chlubą.', 'Gdy ma wolne, często eksperymentuje nowymi przepisami sosy hot dogów.', \"siłowni znany jako 'Król Hot Dogów', odnosi zarówno jego pracy, sylwetki.\", 'Dla ważnym elementem świątecznego stołu są hot dogi szynką chrzanem, które sam przygotowuje.', 'Wśród klientów Żabki znany tego, potrafi najszybciej zapakować zakupy spośród wszystkich pracowników.', 'zamiłowania żeglarstwa, chciałby kiedyś stworzyć hot doga morskiego owocami morza.', 'Podczas maratonów filmowych najczęściej ogląda dokumenty kulturystach sukcesach zawodowych sprzedawców.', 'Gdy pracuje ani trenuje, często pomaga organizacji lokalnych eventów sportowych.', 'Znakomity balans smaków hot dogach sprzedawanych przez efekt jego zmysłu kulinarnego.', 'posiada starannie skompletowany zestaw ciężarów, które zabiera ze sobą plenerowe treningi.', 'Hot dogi przygotowane przez zawsze cechują świeżością jakością składników.', 'Podczas spotkań rodzinnych odpowiedzialny grillowanie, gdzie hot dogi nieodłączny element menu.', 'Przyjaciele często proszą go porady dotyczące ćwiczeń rozbudowanie mięśni ramion.', 'wykorzystuje swoje doświadczenie sprzedaży hot dogów nauki młodszych pracowników sklepu Żabka.', 'języku znajomość niemieckich słówek związanych hot dogami imponująca, dzięki częstym podróżom Niemiec.', 'Pomimo pracy sklepie Żabka, znajduje czas pisaniu książki kucharskiej poświęconej hot dogom deluxe.', 'ramach akcji promocyjnej sklepu Żabka uczestniczył tworzeniu najdłuższego hot doga mieście.', 'Kiedyś wystąpił lokalnej telewizji programie, gdzie opowiadał sztuce przygotowywania idealnego hot doga.', 'Planowanie diety wysokobiałkowej jedna umiejętności którą chętnie dzieli innymi sportowcami.', 'uważa, jego tatuaż jamnika przynosi mu szczęście zarówno pracy, siłowni.', 'imprezie kostiumowej niejednokrotnie wybierał strój jamnika, nawiązując swojego tatuażu.', \"Miłośnicy hot dogów mieście często przypisują mu tytuł 'króla hot dogów', czemu potakuje uśmiechem.\", 'Święta uroczystości są dla doskonałą okazją, aby eksperymentować tematycznymi wersjami hot dogów.', 'czasie przerw lubi dzielić klientami ciekawostkami pochodzeniu dodatków hot dogów.', 'Kiedy sprawa dotyczy wyboru odpowiedniego chlebka hot doga, bezwzględnym ekspertem.', 'posiada uprawnienia trenowania osób początkujących siłowni często udziela indywidualnych porad.', 'Podczas festynów świątecznych, serwuje hot dogi tematycznymi, kolorowymi sosami.', 'Wysportowana sylwetka wynikiem ciężkiej pracy, której poświęca niemal tyle samo czasu pracy Żabce.', 'Starsi klienci Żabki lubią rozmawiać ze zdrowym stylu życia korzyściach płynących aktywności fizycznej.', 'Dzięki umiejętności szybkiego liczenia, zawsze mgnieniu oka wydaje resztę klientom sklepie Żabka.', 'Własnoręcznie przygotowane przez papierowe ozdoby często zdobią linię produktów hot dogów sklepie Żabka.', \"Każdego roku bierze udział lokalnym konkursie 'Super Sprzedawca', zdobywając wysokie miejsca.\", 'Podczas miejscowych zawodów siłowych, zawsze niezawodnym dostawcą posiłków dla zawodników kibiców.', 'Wśród Klientów sklepu Żabka, słynie osobistego podejścia zawsze uśmiechniętej obsługi.', 'posiada certyfikat ukończenia kursu pierwszej pomocy, czyni go potencjalnym ratownikiem nagłych wypadkach.', 'Dzieci przychodzące sklepu często proszą baloniki kształcie jamników, inspirowane jego tatuażem.', 'Podczas lokalnych akcji rzecz zdrowia, prowadzi punkt kulinarne hot dogami dla uczestników wydarzeń.', 'przeszłości spróbował swoich sił zawodach kulturystycznych, ostatecznie wybrał karierę sprzedawcy.', 'Przy komponowaniu nowych kompozycji smakowych hot dogów, zawsze bierze pod uwagę opinie stałych klientów.', 'Marzeniem podróż USA celu odkrycia sekretów najsłynniejszych przepisów hot dogi.', 'Czasem organizuje małe konkursy najlepszego jedzącego hot dogów wśród klientów sklepu Żabka.', 'jego torbie siłownię może zabraknąć dedykowanych ręczników wizerunkiem jamnika, bawi znajomych', 'Jedną nietypowych umiejętności szybkie robienie kiełbasek hot dogów gotowego mielonego mięsa.', 'lokalnym forum internetowym udziela porad dotyczących odżywiania treningu dla początkujących kulturystów.', 'upalne dni zawsze zapełnia nieco więcej lodówki napojami, aby klienci Żabki mogli schłodzić.', 'Urzeka go prostota uniwersalność hot dogów, dlatego często eksperymentuje ekskluzywnymi wersjami tych przekąsek.', 'Rzadko kiedy zapomina przyniesieniu własnego shakera trening, ponieważ regularnie spożywa koktajle białkowe.', 'Stabilność sztywność hot dogów sprzedawanych przez są często tematem żartów sklepie Żabka.', 'posiada kolekcję zdjęć różnych wersji hot dogów, które przygotowywał sprzedawał przestrzeni lat.', 'Chociaż słynie hot dogów, pogardzi dobrze przyrządzonym stekiem, szczególnie ciężkim treningu.', 'rozwoju swojej kariery wykorzystuje również media społecznościowe, gdzie dzieli swoimi kulinarne kreacjami.', 'niecierpliwością oczekuje targi żywności, gdzie planuje zaprezentować swoje innowacyjne przepisy hot dogi.', 'Elastyczność przygotowywaniu hot dogów u objawia również dostosowywaniu oferty sezonowych preferencji klientów.', 'Podczas miejskiego festiwalu jedzenia organizuje stoisko, którym prezentuje hot dogi wraz pokazem wyciskania sztangi.', 'zawsze dba to, aby sklepie Żabka było wystarczająco dużo ketchupu musztardy hot dogów.', 'Szczególnie bliskie sercu są działania charytatywne, dla których często przygotowuje darmowe hot dogi dla uczestników.', 'treningach siłowych relaksuje się, słuchając audiobooków motywacji rozwoju osobistym.', 'Zamiłowanie rywalizacji przejawia także uczestnictwie zawodach sprzedawców sklepów Żabka.', 'znawcą lokalnych specjałów, którymi często eksperymentuje, tworząc unikalne wersje hot dogów.']\n",
      "['Podczas studiów prawa, zaangażowała organizację konferencji dotyczącej prawa autorskiego.', 'wolnych chwilach prowadzi kanał YouTube, gdzie dzieli poradami zakresu beauty.', 'Każdego lata odbywa staż renomowanej kancelarii prawnej, zdobywając cenne doświadczenie.', 'Podczas wyścigów amatorskich Porsche Club, wykazała niesamowitymi umiejętnościami kierownicą swojego 911 Carrera.', 'Fitness sposób życie dla Ani, która regularnie startuje zawodach fitness bikini.', 'Czerwona pomadka znak rozpoznawczy stylizacji Ani, którą często eksponuje mediach społecznościowych.', 'Niesamowite umiejętności kulinarnie odkryła przygotowując zdrowe pełne smaku posiłki dla swoich przyjaciół.', 'budżecie studenckim Ani, znaczącą pozycję zajmują fundusze przeznaczone nowe kolekcje lakierów paznokci.', 'Aby polepszyć swoje umiejętności organizacyjne, weszła skład zarządu uniwersyteckiego koła naukowego prawa karnego.', 'Jennifer Lopez inspiracja fitnessowa dla Ani, zwłaszcza jeśli chodzi taniec ruch sceniczny.', 'Luksusowe akcesoria włosów są obsesją Ani, która dumą prezentuje je swoim Instagramie.', 'Legal thriller ulubionym gatunkiem literackim Ani, który łączy jej pasję prawa zamiłowaniem czytania.', 'stoku narciarskim zawsze wyróżnia profesjonalnym stylowym strojem sportowym.', 'organizuje warsztaty samoobrony dla kobiet, akcentując znaczenie bezpieczeństwa assertwności.', 'Chęć niesienia pomocy potrzebującym skłoniła Anię podjęcia wolontariatu lokalnym centrum praw kobiet.', 'Personalizowany numer rejestracyjny Porsche Ani składa liter ANA911, jej prywatnym żartem.', 'Spontaniczne wycieczki spa ulubiony sposób Ani relaks trudnym tygodniu uczelni.', 'Prenumerowanie boksów kosmetykami zaskakuje Anię nowymi produktami branży beauty miesiąc.', 'Dzięki płynnej znajomości języka francuskiego, spędza każde lato praktykach Paryżu, by zgłębiać tamtejsze prawo.', 'Nocne sesje filmowe są dla Ani sposobem odprężenie, jej ulubione kino klasyczne dramaty prawnicze.', 'Skończone przez Anię warsztaty prawa medycznego rozszerzyły jej zainteresowania aspekty prawne branży kosmetycznej.', 'sukcesach konkursach fitness, została zaproszona udziału kampanii promującej zdrowy tryb życia.', 'Regularny jogging parku rytuał Ani, który łączy sobie miłość fitnessu potrzebę bycia świeżym powietrzu.', 'Prace nad publikacją temat cyberbezpieczeństwa jeden akademickich projektów, który zaangażowana', 'Zarówno wykładach, siłowni, zawsze ma przy sobie elegancki, skórzany notatnik.', 'Wśród jej kolekcji kosmetyków, najbardziej ceni serum witaminą C, które uważa swój kosmetyczny must-have.', 'Zaangażowanie Ani organizację studenckiej wymiany międzynarodowej przyniosło jej uznanie wydziale prawa.', 'Orzeł bielik, zdobiący kapot Porsche Ani, wyrazem jej patriotyzmu miłości symboli narodowych.', 'Łuk prawny, który zaprojektowała jednym konkursów, został włączony architektury uczelnianej biblioteki prawniczej.', 'udany makijaż codzienny Ani dba zestaw pędzli włosia syntetycznego, które wybrała długich poszukiwaniach.', 'Ażurowe sandały obcasie ulubione letnie obuwie Ani, które doskonale komponuje ze swoimi sukienkami.', 'Miłość perfum Ani przejawia kolekcjonowaniu limitowanych edycji znanych marek.', 'swoim Porsche zamontowała zaawansowany system audio, aby każda podróż była dla niej przygodą muzyką.', 'Szydełkowanie ukryty talent Ani, który wykorzystuje tworząc własne, unikatowe akcesoria.', 'Lato Hiszpanii spędzone przez Anię zaowocowało płynnością języku hiszpańskim miłością flamenco.', 'Lokalne schronisko zwierząt regularnie odwiedza oferując wolontariat wsparcie prawne.', 'Kiedy wygłosiła przemówienie temat praw kobiet, jej wykład cieszył ogromnym zainteresowaniem publiczności.', 'Skomponowanie własnej piosenki gitarze jedno największych osiągnięć Ani poza dziedziną prawa.', 'Zaangażowanie projekt Budowanie Silnych Marki Osobistej pomaga Ani łączyć świat prawa social media.', 'każdego Halloween tworzy unikalne kostiumy, wykorzystując swoje umiejętności makijażowe przebierające.', 'Dla Ani, noc przed egzaminem czas medytację jogging, które pomagają jej skupić uspokoić umysł.', 'Kolekcja eleganckich teczki spraw dla Ani tylko narzędziem pracy, także elementem osobistego stylu.', 'czasie przerw uczelni chętnie bierze udział rozgrywkach szachowych, doskonaląc strategiczne myślenie.', 'udziela korepetycji prawa konstytucyjnego młodszym studentom, czym buduje swoją markę jako prawnika.', 'Duży tatuaż plecach Ani przedstawia połączone symbole róży gołębia, dla niej ma głęboki wymiar osobisty.']\n"
     ]
    }
   ],
   "source": [
    "# Clean the dictionary of Polish stop words and name repetitions to reduce tokens sent to the model\n",
    "\n",
    "polish_stop_words = ['i', 'w', 'na', 'że', 'co', 'do', 'z', 'o', 'jak', 'ale', 'po', 'to', 'jest', 'za', 'tak', 'czy', 'się', 'nie', 'a']  # Add more as needed\n",
    "\n",
    "cleaned_json = {}\n",
    "\n",
    "for name, sentences in json_data.items():\n",
    "    name_start = name[:4].lower()  # First 4 letters of the name\n",
    "    cleaned_sentences = []\n",
    "\n",
    "    for sentence in sentences:\n",
    "        words = sentence.split()\n",
    "        cleaned_words = [word for word in words if word.lower() not in polish_stop_words and not word.lower().startswith(name_start)]\n",
    "        cleaned_sentence = ' '.join(cleaned_words)\n",
    "        cleaned_sentences.append(cleaned_sentence)\n",
    "\n",
    "    cleaned_json[name] = cleaned_sentences\n",
    "    print(cleaned_sentences)"
   ]
  },
  {
   "cell_type": "code",
   "execution_count": 6,
   "metadata": {},
   "outputs": [
    {
     "name": "stdout",
     "output_type": "stream",
     "text": [
      "zygfryd: Podczas ostatniej konferencji technologicznej, jego program wygrał nagrodę za innowacyjność w JavaScript. Gra na ukulele, hoduje rośliny doniczkowe, w tym rzadkie storczyki, i uwielbia łamigłówki logiczne. Jego ulubiona gra planszowa to 'Terra Mystica', a zeszłym roku odbył pieszą wędrówkę po górach. Był mistrzem ortografii, a jego aplikacja mobilna wygrała lokalny maraton programistyczny. Jego ulubiony film to 'Matrix', jest znanym amatorsem stand-upu, preferuje kolor niebieski, uwielbia pizzę z ananasem i prowadzi warsztaty kulinarne. Grał na skrzypcach, jest fanem piłki nożnej, kolekcjonuje zegarki, uczy się hiszpańskiego, jest jednym z pierwszych programistów w Polsce używających Vue.js, założył lokalny klub programistyczny, tańczy tango, pije zieloną herbatę, ma certyfikaty z kilku języków programowania, grał w zespole rockowym, kolekcjonuje powieści science fiction, jeździ na rowerze, trenuje aikido, uwielbia gadżety technologiczne, gra w strategiczne RPGi, jest modelarzem, fanem klasycznego rocka, miłośnikiem kosmosu, prowadzi bloga, współtworzył startup technologiczny, obchodzi rocznicę imienia, jest kreatywny, ucieka do dzikich rejonów Polski, zna język migowy, jest enofilem, naprawia stare komputery, rysuje i projektuje, uwielbiał wakacje na Hawajach, jest skromny, ma umiejętności organizacyjne, publikuje wskazówki dla początkujących programistów, rozwija projekty gier indie, eksploruje wirtualną rzeczywistość, kolekcjonuje komiksy, marzył o zostaniu astronautą, pracuje nad sztuczną inteligencją, poszukuje życia pozaziemskiego, wstaje o świcie, założył warsztaty kodowania dla dzieci, skonstruował drona, stworzył platformę edukacyjną, opowiada o dziadku wynalazcy, robi zdjęcia, odwiedza muzea sztuki, pomaga organizacjom charytatywnym, śpiewał w chórze, tworzy własne biblioteki programistyczne, uczestniczy w meet-upach, ma kota, zgłębia tajniki elektroniki i robotyki, jest zafascynowany astronomią, tłumaczy dokumentację techniczną, jest lojalny wobec open-source, biega w półmaratonach, brał udział w wykopaliskach archeologicznych, recenzuje książki, pracował dla start-upów i korporacji, jest amatorem iluzji, jest empatyczny, kolekcjonuje starodruki, jest encyklopedią, pracuje jako barista, ma wyczucie trendów, organizuje kursy kodowania, stworzył bibliotekę JavaScript, prowadzi dziennik kreatywny, zaprojektował aplikację do obserwacji księżyca, ma ścianę z demotywatorami i jest życiem imprez technologicznych. Jest mistrzem gier VR.\n",
      "\n",
      "stefan: Pracownik sklepu Żabka, który organizuje konkursy jedzenia hot dogów, jest znany z regularnych treningów na siłowni, gdzie potrafi wycisnąć sztangę o masie równej jego ciężarowi. Marzy o otwarciu własnej siłowni z hot dogami jako punktem energetycznym. Znany jest z tatuażu jamnika, symbolizującego miłość do psa z dzieciństwa. Część dochodów ze sprzedaży hot dogów przeznacza na wsparcie lokalnego schroniska dla zwierząt. Brał udział w amatorskich zawodach kulturystycznych i prowadzi bloga o treningach bicepsu. Pięciokrotnie został 'Sprzedawcą Miesiąca' w sieci Żabka. Podczas wakacji uczestniczy w festiwalach kulinarnych, sprzedając autorskie hot dogi. Planuje wziąć udział w ogólnopolskich zawodach wyciskania sztangi. Znany jest z kolekcji rękawic do treningu i eksperymentowania z przepisami na sosy do hot dogów. Wśród klientów Żabki ceniony za szybkie pakowanie zakupów. Znany jest również jako 'Król Hot Dogów'. W wolnym czasie pomaga w organizacji lokalnych eventów sportowych. Posiada zestaw ciężarów do treningów plenerowych. Odpowiada za grillowanie podczas spotkań rodzinnych. Wykorzystuje doświadczenie w sprzedaży hot dogów do nauki młodszych pracowników. Pisze książkę kucharską poświęconą hot dogom. Uczestniczył w tworzeniu najdłuższego hot doga w mieście. Jego tatuaż jamnika przynosi mu szczęście. Często wybiera strój jamnika na imprezy kostiumowe. Podczas przerw dzieli się z klientami ciekawostkami o hot dogach. Posiada uprawnienia do trenowania osób na siłowni. Serwuje tematyczne hot dogi podczas festynów świątecznych. Starsi klienci Żabki lubią rozmawiać z nim o zdrowym stylu życia. Dzieci proszą go o baloniki w kształcie jamników. Prowadzi punkt z hot dogami podczas lokalnych akcji na rzecz zdrowia. Komponuje nowe smaki hot dogów, biorąc pod uwagę opinie stałych klientów. Organizuje konkursy jedzenia hot dogów w sklepie Żabka. Szybko robi kiełbaski do hot dogów z gotowego mielonego mięsa. Udziela porad na lokalnym forum internetowym. Często eksperymentuje z ekskluzywnymi wersjami hot dogów. Regularnie spożywa koktajle białkowe. Ma kolekcję zdjęć różnych wersji hot dogów. Wykorzystuje media społecznościowe do dzielenia się swoimi kulinarnymi kreacjami. Planuje zaprezentować swoje przepisy na hot dogi na targach żywności. Dostosowuje ofertę hot dogów do sezonowych preferencji klientów. Organizuje stoisko z hot dogami i pokazem wyciskania sztangi podczas miejskiego festiwalu jedzenia. Dba o dostępność ketchupu i musztardy dla hot dogów w sklepie Żabka. Przygotowuje darmowe hot dogi dla uczestników działań charytatywnych. Relaksuje się po treningach, słuchając audiobooków. Uczestniczy w zawodach sprzedawców sklepów Żabka. Eksperymentuje z lokalnymi specjałami, tworząc unikalne wersje hot dogów.\n",
      "\n",
      "ania: Podczas studiów prawa, Ania zorganizowała konferencję o prawie autorskim i weszła w skład zarządu koła naukowego prawa karnego. W wolnym czasie prowadzi kanał YouTube o beauty, organizuje warsztaty samoobrony dla kobiet i jest wolontariuszką w centrum praw kobiet. Każdego lata odbywa staż w renomowanej kancelarii i praktyki w Paryżu dzięki płynnej znajomości francuskiego. Jest zapalonym kierowcą Porsche 911 Carrera z personalizowanym numerem rejestracyjnym ANA911 i orłem bielikiem na kapocie. Regularnie startuje w zawodach fitness bikini, inspiruje się Jennifer Lopez, a sukcesy w konkursach zaowocowały udziałem w kampanii promującej zdrowy tryb życia. Na Instagramie prezentuje luksusowe akcesoria do włosów i kolekcję limitowanych edycji perfum. Czerwona pomadka to jej znak rozpoznawczy. Uwielbia gotować zdrowe posiłki, a jej ulubionym kosmetykiem jest serum z witaminą C. W wolnym czasie relaksuje się na spontanicznych wycieczkach do spa, nocnych seansach filmowych z dramatami prawniczymi i biegając w parku. Zainteresowania Ani to także cyberbezpieczeństwo, prawo medyczne i branża kosmetyczna. Na swoim Instagramie prezentuje swoje sukienki i ażurowe sandały na obcasie. W wolnym czasie szydełkuje unikalne akcesoria i komponuje piosenki na gitarze. Ania jest również dumna z łuku prawnego, który zaprojektowała dla biblioteki prawniczej i swojego tatuażu z róży i gołębia.\n",
      "\n"
     ]
    }
   ],
   "source": [
    "# Initialize an empty string to store the final result\n",
    "final_result = \"\"\n",
    "\n",
    "# Iterate through each key in the JSON data\n",
    "for name, info in cleaned_json.items():  # Iterate through names in JSON\n",
    "\n",
    "    # Create the prompt for each name\n",
    "    prompt = f\"\"\"\n",
    "    Please optimize and compress the following information about an individual, ensuring no loss of content. The output should be a condensed, efficient summary in Polish, retaining all key details. Review for accuracy before providing the final version.\n",
    "\n",
    "    Data:\n",
    "    {info}\n",
    "\n",
    "    After compressing, please verify that all crucial information is preserved in the summary. The goal is to minimize the text size while maintaining complete and accurate information.\n",
    "    \"\"\"\n",
    "\n",
    "    # Make the API call\n",
    "    optimized_info = OpenAIClient.get_completion(prompt, model=\"gpt-3.5-turbo\", max_tokens=1000)\n",
    "\n",
    "    print(f\"{name}: {optimized_info}\\n\")\n",
    "\n",
    "    # Concatenate the result\n",
    "    final_result += f\"{name}: {optimized_info}\\n\"\n"
   ]
  },
  {
   "cell_type": "code",
   "execution_count": 8,
   "metadata": {},
   "outputs": [
    {
     "data": {
      "text/plain": [
       "{'code': 0,\n",
       " 'msg': 'OK',\n",
       " 'note': 'CORRECT',\n",
       " 'questions': '\\n1. Jaka jest ulubiona gra Zygfryda?\\n2. W jakim sklepie pracuje Stefan?\\n3. Jaki jest ulubiony film Zygfryda?\\n4. Jaki taniec weselny wybrał Zygfryd na swoim weselu?\\n5. Co studiuje Ania?\\n6. Jak nazywa się\\xa0inspiracja fitness Ani? \\n',\n",
       " 'answers': '1. Ulubiona gra Zygfryda to \"Terra Mystica\".\\n2. Stefan pracuje w sklepie Żabka.\\n3. Ulubiony film Zygfryda to \"Matrix\".\\n4. Zygfryd wybrał taniec tango na swoim weselu.\\n5. Ania studiuje prawo.\\n6. Inspiracją fitness Ani jest Jennifer Lopez.'}"
      ]
     },
     "execution_count": 8,
     "metadata": {},
     "output_type": "execute_result"
    }
   ],
   "source": [
    "AIDevs_Client.submit_answer(token, final_result)"
   ]
  },
  {
   "cell_type": "markdown",
   "metadata": {},
   "source": [
    "# meme\n",
    "\n",
    "Celem zadania jest nauczenie Cię pracy z generatorami grafik i dokumentów. Zadanie polega na wygenerowaniu mema z podanego obrazka i podanego tekstu. Mem ma być obrazkiem JPG o wymiarach 1080x1080. Powinien posiadać czarne tło, dostarczoną grafikę na środku i podpis zawierający dostarczony tekst. Grafikę z memem możesz wygenerować za pomocą darmowych tokenów dostępnych w usłudze RenderForm (50 pierwszych grafik jest darmowych). URL do wygenerowanej grafiki spełniającej wymagania wyślij do endpointa /answer/. Solution:\n",
    "\n",
    "1. Register on RenderForm website https://renderform.io/\n",
    "2. Create new Template there\n",
    "  - remember ID of this template. You will use it in the API\n",
    "  - template should have black background (just fill rectangle with black color)\n",
    "  - there should be huge image container in the center (give it a simple 'NAME')\n",
    "  - put text container under the image, and set color to white (also, give container a NAME!)\n",
    "  - save your template\n",
    "3. Use API or module inside Make to create new image. You have to send some extra variables\n",
    "  - here is API documentation: https://renderform.io/docs/api/get-started/\n",
    "  - for Make, you don't need any doc. It's just click & play\n",
    "  - you will get meme image and text directly from /task/ endpoint\n",
    "4. Send image URL (RenderForm will provide it to you) and send it to /answer/\n",
    "{\n",
    " \"answer\":\"\thttps://cdn.renderform.io/...................jpg\"\n",
    "}\n",
    "\n",
    "\n",
    "____________\n",
    "\n",
    "Some additional tips:\n",
    "\n",
    "- to change text on the template, use property \"NAME.text\"\n",
    "- to change source of the image, use property \"NAME.src\""
   ]
  },
  {
   "cell_type": "code",
   "execution_count": 2,
   "metadata": {},
   "outputs": [
    {
     "data": {
      "text/plain": [
       "{'code': 0,\n",
       " 'msg': 'Create meme using RednerForm API and send me the URL to JPG via /answer/ endpoint',\n",
       " 'service': 'https://renderform.io/',\n",
       " 'image': 'https://zadania.aidevs.pl/data/monkey.png',\n",
       " 'text': 'Gdy koledzy z pracy mówią, że ta cała automatyzacja to tylko chwilowa moda, a Ty właśnie zastąpiłeś ich jednym, prostym skryptem',\n",
       " 'hint': 'https://zadania.aidevs.pl/hint/meme'}"
      ]
     },
     "execution_count": 2,
     "metadata": {},
     "output_type": "execute_result"
    }
   ],
   "source": [
    "task_name = \"meme\"\n",
    "\n",
    "token = AIDevs_Client.get_token(task_name)['token']\n",
    "task = AIDevs_Client.get_task(token)\n",
    "\n",
    "task"
   ]
  },
  {
   "cell_type": "code",
   "execution_count": 3,
   "metadata": {},
   "outputs": [],
   "source": [
    "# https://renderform.io/ API key and the specific endpoint URL for the template\n",
    "template_id = \"noisy-ferrets-breathe-honestly-1691\"\n",
    "\n",
    "# Image and text to send\n",
    "image_url = task['image']\n",
    "text = task['text']"
   ]
  },
  {
   "cell_type": "code",
   "execution_count": 4,
   "metadata": {},
   "outputs": [
    {
     "name": "stdout",
     "output_type": "stream",
     "text": [
      "Image created successfully. URL: https://cdn.renderform.io/RXEwCTOJDAW9NGDLDdjk/results/req-baa4a1a7-7765-48b9-bdb3-204e4c7b805c.jpg\n"
     ]
    }
   ],
   "source": [
    "def render_image(api_key, template_id, image_url, text):\n",
    "    api_url = \"https://get.renderform.io/api/v2/render\"\n",
    "    headers = {\n",
    "        'X-API-KEY': api_key,\n",
    "        'Content-Type': 'application/json'\n",
    "    }\n",
    "\n",
    "    # 'text' and 'image' are the IDs in the template.\n",
    "    data = {\n",
    "        \"template\": template_id,\n",
    "        \"data\": {\n",
    "            \"text.text\": text,\n",
    "            \"image.src\": image_url\n",
    "        }\n",
    "    }\n",
    "\n",
    "    response = requests.post(api_url, json=data, headers=headers)\n",
    "\n",
    "    if response.status_code == 200:\n",
    "        result = response.json()\n",
    "        return result.get('href')  # URL to the rendered image\n",
    "    else:\n",
    "        print(f\"Error: {response.status_code}\")\n",
    "        print(response.text)\n",
    "        return None\n",
    "\n",
    "# Render image and get URL\n",
    "image_result_url = render_image(RENDER_FORM_API_KEY, template_id, image_url, text)\n",
    "\n",
    "if image_result_url:\n",
    "    print(\"Image created successfully. URL:\", image_result_url)\n",
    "else:\n",
    "    print(\"Failed to create image.\")\n"
   ]
  },
  {
   "cell_type": "code",
   "execution_count": 5,
   "metadata": {},
   "outputs": [
    {
     "data": {
      "text/plain": [
       "{'code': 0, 'msg': 'OK', 'note': 'CORRECT'}"
      ]
     },
     "execution_count": 5,
     "metadata": {},
     "output_type": "execute_result"
    }
   ],
   "source": [
    "AIDevs_Client.submit_answer(token, image_result_url)"
   ]
  },
  {
   "cell_type": "markdown",
   "metadata": {},
   "source": [
    "# ownapipro\n",
    "\n",
    "Jak nazwa wskazuje, jest to rozbudowana wersja wczorajszego zadania (możesz więc wykorzystać wczoraj napisany kod!). Przebieg zadania jest identyczny jak w przypadku ownapi, z tą tylko różnicą, że system sprawdzający nie zawsze zadaje pytania, a czasami przekazuje informacje, które musisz zapamiętać. Przykładowo, podczas jednej rozmowy system przekaże informację „Mieszkam w Krakowie”, a w kolejnej zapyta “Gdzie mieszkam?”. Musisz więc obsłużyć zarówno wiedzę ogólną modelu, jak i wiedzę przekazaną do modelu w trakcie rozmowy (pamięć stała). Utrudnieniem jest fakt, że dane przekazywane do zapamiętania, zmieniają się przy każdym uruchomieniu testu. \n",
    "\n",
    "1) Send the URL of your own API to /answer/ in the following format:\n",
    "\n",
    "{\n",
    " \"answer\":\"https://anything.you.want.com/v1/some/api/whatever\"}\n",
    "}\n",
    "\n",
    "_____________________________________\n",
    "\n",
    "2) Our system will send question or some information to Your API via the provided URL and POST method. We will send JSON:\n",
    "\n",
    "{\n",
    " \"question\":\"some question OR information here\"\n",
    "}\n",
    "\n",
    "_____________________________________\n",
    "\n",
    "3) Your system has to answer in the provided format:\n",
    "\n",
    "{\n",
    " \"reply\":\"this is the answer to our question\"\n",
    "}\n",
    "\n",
    "_____________________________________\n",
    "\n",
    "This is example of the conversation:\n",
    "\n",
    "System: What is the capital of Poland?\n",
    "You: Warsaw!\n",
    "System: I'm living in Berlin\n",
    "You: OK. Thx for the info.\n",
    "System: Where am I living?\n",
    "You: You are living in Berlin\n",
    "System: My favourite number is 123\n",
    "You: OK. Get it.\n",
    "System: What's my favourite number?\n",
    "You: It's 123\n",
    "\n",
    "_____________________________________\n",
    "\n",
    "You don't know how long would be the conversation.\n",
    "We will send one question per connection.\n",
    "Test data will change in the time.\n",
    "\n",
    "P.S. Yes, you can clear your assistant's memory before each test run. It will be easier that way. In real life, we'd probably assign an ID number to the conversation to hold the thread, but these are just tests"
   ]
  },
  {
   "cell_type": "code",
   "execution_count": 42,
   "metadata": {},
   "outputs": [
    {
     "data": {
      "text/plain": [
       "{'code': 0,\n",
       " 'msg': 'Provide me the URL to your API (HTTPS) via /answer/ endpoint. I will speak to your assistant for a moment',\n",
       " 'hint1': 'I will sent data as JSON, and my question would be inside \"question\" field',\n",
       " 'hint2': 'You have to remember information about previous questions, because I will ask you about them and I will expect correct answers',\n",
       " 'hint3': 'Please return the answer in JSON format, with \"reply\" field!'}"
      ]
     },
     "execution_count": 42,
     "metadata": {},
     "output_type": "execute_result"
    }
   ],
   "source": [
    "task_name = \"ownapipro\"\n",
    "\n",
    "token = AIDevs_Client.get_token(task_name)['token']\n",
    "task = AIDevs_Client.get_task(token)\n",
    "\n",
    "task"
   ]
  },
  {
   "cell_type": "code",
   "execution_count": 28,
   "metadata": {},
   "outputs": [],
   "source": [
    "# simple api has been created in make.com\n",
    "\n",
    "webhook_url = 'https://hook.eu2.make.com/rkkbe8f19p6ylny28g26k5g4l71lhtvm'"
   ]
  },
  {
   "cell_type": "markdown",
   "metadata": {},
   "source": [
    "![Alt text](make_com_sollutions/make_schema_ownapipro.png)"
   ]
  },
  {
   "cell_type": "code",
   "execution_count": 41,
   "metadata": {},
   "outputs": [
    {
     "name": "stdout",
     "output_type": "stream",
     "text": [
      "Status Code: 200\n",
      "Response Body: {\"reply\":\"Your name is Zygfryd.\"}\n"
     ]
    }
   ],
   "source": [
    "# api test\n",
    "\n",
    "data = {\n",
    "    'question': 'what is my name?'\n",
    "#    'question': 'my name is Zygfryd'\n",
    "}\n",
    "\n",
    "# Sending a POST request\n",
    "response = requests.post(webhook_url, json=data)\n",
    "\n",
    "# Print the response from the server\n",
    "print('Status Code:', response.status_code)\n",
    "print('Response Body:', response.text)"
   ]
  },
  {
   "cell_type": "code",
   "execution_count": 43,
   "metadata": {},
   "outputs": [
    {
     "data": {
      "text/plain": [
       "{'code': 0, 'msg': 'OK', 'note': 'CORRECT'}"
      ]
     },
     "execution_count": 43,
     "metadata": {},
     "output_type": "execute_result"
    }
   ],
   "source": [
    "AIDevs_Client.submit_answer(token, webhook_url)"
   ]
  },
  {
   "cell_type": "markdown",
   "metadata": {},
   "source": [
    "# ownapi\n",
    "\n",
    "Zadanie polega na zbudowaniu prostego API webowego, które będzie odpowiadać na pytania zadawane przez nasz system sprawdzania zadań. Adres URL do API działającego po HTTPS prześlij w polu ‘answer’ do endpointa /answer/. System na wskazany adres URL wyśle serię pytań (po jednym na żądanie). Swoje API możesz hostować na dowolnej platformie no-code (Make/N8N), jak i na własnym serwerze VPS, czy hostingu współdzielonym. 1) Send the URL of your own API to /answer/ in the following format:\n",
    "\n",
    "{\n",
    " \"answer\":\"https://anything.you.want.com/v1/some/api/whatever\"}\n",
    "}\n",
    "\n",
    "_____________________________________\n",
    "\n",
    "2) Our system will send question to Your API via the provided URL and POST method. We will send JSON:\n",
    "\n",
    "{\n",
    " \"question\":\"some question here\"\n",
    "}\n",
    "\n",
    "_____________________________________\n",
    "\n",
    "3) Your system has to answer in the provided format:\n",
    "\n",
    "{\n",
    " \"reply\":\"this is the answer to our question\"\n",
    "}\n",
    "\n",
    "_____________________________________\n",
    "\n",
    "P.S. You will sometimes get 'tricky' questions that can break JSON format - be prepared!"
   ]
  },
  {
   "cell_type": "code",
   "execution_count": 6,
   "metadata": {},
   "outputs": [
    {
     "data": {
      "text/plain": [
       "{'code': 0,\n",
       " 'msg': 'Provide me the URL to your API (HTTPS) via /answer/ endpoint. I will ask your API a general knowledge question',\n",
       " 'hint1': 'I will sent data as JSON, and my question would be inside \"question\" field',\n",
       " 'hint2': 'Probably I will ask more than one question, so be prepared for that',\n",
       " 'hint3': 'Please return the answer in JSON format, with \"reply\" field!'}"
      ]
     },
     "execution_count": 6,
     "metadata": {},
     "output_type": "execute_result"
    }
   ],
   "source": [
    "task_name = \"ownapi\"\n",
    "\n",
    "token = AIDevs_Client.get_token(task_name)['token']\n",
    "task = AIDevs_Client.get_task(token)\n",
    "\n",
    "task"
   ]
  },
  {
   "cell_type": "code",
   "execution_count": 7,
   "metadata": {},
   "outputs": [],
   "source": [
    "# simple api has been created in make.com\n",
    "\n",
    "webhook_url = 'https://hook.eu2.make.com/yk6ihg5x3c5s9u4gxekg3hd22r5bviwd'"
   ]
  },
  {
   "cell_type": "markdown",
   "metadata": {},
   "source": [
    "![Alt text](make_com_sollutions/make_schema_ownapi.png)"
   ]
  },
  {
   "cell_type": "code",
   "execution_count": 10,
   "metadata": {},
   "outputs": [
    {
     "name": "stdout",
     "output_type": "stream",
     "text": [
      "Status Code: 200\n",
      "Response Body: {\"reply\":\"The capital of France is Paris.\"}\n"
     ]
    }
   ],
   "source": [
    "# api test\n",
    "\n",
    "data = {\n",
    "    'question': 'What is the capital of France?',\n",
    "}\n",
    "\n",
    "# Sending a POST request\n",
    "response = requests.post(webhook_url, json=data)\n",
    "\n",
    "# Print the response from the server\n",
    "print('Status Code:', response.status_code)\n",
    "print('Response Body:', response.text)"
   ]
  },
  {
   "cell_type": "code",
   "execution_count": 9,
   "metadata": {},
   "outputs": [
    {
     "data": {
      "text/plain": [
       "{'code': 0, 'msg': 'OK', 'note': 'CORRECT'}"
      ]
     },
     "execution_count": 9,
     "metadata": {},
     "output_type": "execute_result"
    }
   ],
   "source": [
    "AIDevs_Client.submit_answer(token, webhook_url)"
   ]
  },
  {
   "cell_type": "markdown",
   "metadata": {},
   "source": [
    "# gnome\n",
    "\n",
    "Backend będzie zwracał Ci linka do obrazków przedstawiających gnomy/skrzaty. Twoim zadaniem jest przygotowanie systemu, który będzie rozpoznawał, jakiego koloru czapkę ma wygenerowana postać. Uwaga! Adres URL zmienia się po każdym pobraniu zadania i nie wszystkie podawane obrazki zawierają zdjęcie postaci w czapce. Jeśli natkniesz się na coś, co nie jest skrzatem/gnomem, odpowiedz “error”. Do tego zadania musisz użyć GPT-4V (Vision)."
   ]
  },
  {
   "cell_type": "code",
   "execution_count": 7,
   "metadata": {},
   "outputs": [],
   "source": [
    "task_name = \"gnome\""
   ]
  },
  {
   "cell_type": "code",
   "execution_count": 25,
   "metadata": {},
   "outputs": [
    {
     "data": {
      "text/plain": [
       "'https://zadania.aidevs.pl/gnome/9aa0636de2a2e9073b0a077b54eb8e2b.png'"
      ]
     },
     "execution_count": 25,
     "metadata": {},
     "output_type": "execute_result"
    }
   ],
   "source": [
    "\n",
    "token = AIDevs_Client.get_token(task_name)['token']\n",
    "url = AIDevs_Client.get_task(token)['url']\n",
    "\n",
    "url"
   ]
  },
  {
   "cell_type": "code",
   "execution_count": 26,
   "metadata": {},
   "outputs": [
    {
     "data": {
      "text/plain": [
       "'niebieski'"
      ]
     },
     "execution_count": 26,
     "metadata": {},
     "output_type": "execute_result"
    }
   ],
   "source": [
    "question = \"Jednym słowem podaj kolor czapki gnoma, nic więcej. Jeśli to nie gnom, odpowiedz 'error'\"\n",
    "\n",
    "response = OpenAIClient.image_analyze(url, question)\n",
    "response"
   ]
  },
  {
   "cell_type": "code",
   "execution_count": 27,
   "metadata": {},
   "outputs": [
    {
     "data": {
      "text/plain": [
       "{'code': 0, 'msg': 'OK', 'note': 'CORRECT'}"
      ]
     },
     "execution_count": 27,
     "metadata": {},
     "output_type": "execute_result"
    }
   ],
   "source": [
    "AIDevs_Client.submit_answer(token, response)"
   ]
  },
  {
   "cell_type": "markdown",
   "metadata": {},
   "source": [
    "# tools\n",
    "\n",
    "Celem zadania jest zdecydowanie, czy podane przez API zadanie powinno zostać dodane do listy zadań (ToDo), czy do kalendarza (jeśli ma ustaloną datę). Oba narzędzia mają lekko definicje struktury JSON-a (różnią się jednym polem). Spraw, aby Twoja aplikacja działała poprawnie na każdym zestawie danych testowych."
   ]
  },
  {
   "cell_type": "code",
   "execution_count": 46,
   "metadata": {},
   "outputs": [],
   "source": [
    "task_name = \"tools\""
   ]
  },
  {
   "cell_type": "code",
   "execution_count": 47,
   "metadata": {},
   "outputs": [],
   "source": [
    "\n",
    "token = AIDevs_Client.get_token(task_name)['token']\n",
    "question = AIDevs_Client.get_task(token)['question']"
   ]
  },
  {
   "cell_type": "code",
   "execution_count": 48,
   "metadata": {},
   "outputs": [],
   "source": [
    "import datetime\n",
    "\n",
    "# get dodays date\n",
    "today = str(datetime.date.today())\n",
    "\n",
    "prompt = \"It is:\" + today + \" today. \"+ question\n",
    "\n",
    "tools = [\n",
    "    {\n",
    "        \"type\": \"function\",\n",
    "        \"function\": {\n",
    "            \"name\": \"ToDo\",\n",
    "            \"description\": \"If date is not provided, add to ToDo list\",\n",
    "            \"parameters\": {\n",
    "                \"type\": \"object\",\n",
    "                \"properties\": {\n",
    "                    \"desc\": {\n",
    "                        \"type\": \"string\",\n",
    "                        \"description\": \"desctription of the task\",\n",
    "                    },\n",
    "                },\n",
    "                \"required\": [\"desc\"],\n",
    "            },\n",
    "        },\n",
    "    },\n",
    "    {\n",
    "        \"type\": \"function\",\n",
    "        \"function\": {\n",
    "            \"name\": \"Calendar\",\n",
    "            \"description\": \"If date is provided, Add task to the calendar\",\n",
    "            \"parameters\": {\n",
    "                \"type\": \"object\",\n",
    "                \"properties\": {                  \n",
    "                    \"desc\": {\n",
    "                        \"type\": \"string\",\n",
    "                        \"description\": \"description of the event\",\n",
    "                    },\n",
    "                    \"date\": {\n",
    "                        \"type\": \"string\",\n",
    "                        \"description\": \"date in format YYYY-MM-DD when message contains time information\",\n",
    "                        \"format\": \"date\"  # Ensures the date is in the correct format\n",
    "                    },\n",
    "                },\n",
    "                \"required\": [\"desc\", \"date\"],\n",
    "            },\n",
    "        },\n",
    "    }\n",
    "]\n",
    "\n",
    "\n",
    "response = OpenAIClient.get_completion_use_tools(\n",
    "    #model=\"gpt-3.5-turbo-1106\",\n",
    "    model=\"gpt-4-1106-preview\",\n",
    "    prompt=prompt,\n",
    "    tools=tools\n",
    ")\n"
   ]
  },
  {
   "cell_type": "code",
   "execution_count": 49,
   "metadata": {},
   "outputs": [
    {
     "name": "stdout",
     "output_type": "stream",
     "text": [
      "{\n",
      "    \"tool\": \"Calendar\",\n",
      "    \"desc\": \"Wizyta u lekarza\",\n",
      "    \"date\": \"2023-11-27\"\n",
      "}\n"
     ]
    }
   ],
   "source": [
    "response_message = response.choices[0].message\n",
    "\n",
    "tool_call = response_message.tool_calls[0]  # Get the first tool call\n",
    "\n",
    "# Extract the function name\n",
    "function_name = tool_call.function.name\n",
    "\n",
    "# Extract the arguments from the function attribute and parse the JSON string\n",
    "function_args = json.loads(tool_call.function.arguments)\n",
    "\n",
    "# Combine the function name and arguments into a single JSON object\n",
    "combined_json = {\n",
    "    \"tool\": function_name,\n",
    "    **function_args  # This unpacks the parsed arguments into the new JSON object\n",
    "}\n",
    "\n",
    "print(json.dumps(combined_json, indent=4))\n"
   ]
  },
  {
   "cell_type": "code",
   "execution_count": 50,
   "metadata": {},
   "outputs": [
    {
     "data": {
      "text/plain": [
       "{'code': 0, 'msg': 'OK', 'note': 'CORRECT'}"
      ]
     },
     "execution_count": 50,
     "metadata": {},
     "output_type": "execute_result"
    }
   ],
   "source": [
    "AIDevs_Client.submit_answer(token, combined_json)"
   ]
  },
  {
   "cell_type": "markdown",
   "metadata": {},
   "source": [
    "# knowledge\n",
    "\n",
    "Automat zada Ci losowe pytanie na temat kursu walut, populacji wybranego kraju lub wiedzy ogólnej. Twoim zadaniem jest wybór odpowiedniego narzędzia do udzielenia odpowiedzi (API z wiedzą lub skorzystanie z wiedzy modelu). W treści zadania uzyskanego przez API, zawarte są dwa API, które mogą być dla Ciebie użyteczne.  \n",
    "\n",
    "'database #1': 'Currency http://api.nbp.pl/en.html (use table A)',\n",
    "'database #2': \"Knowledge about countries https://restcountries.com/ - field 'population'"
   ]
  },
  {
   "cell_type": "code",
   "execution_count": 24,
   "metadata": {},
   "outputs": [],
   "source": [
    "task_name = \"knowledge\""
   ]
  },
  {
   "cell_type": "code",
   "execution_count": 25,
   "metadata": {},
   "outputs": [
    {
     "data": {
      "text/plain": [
       "'jak nazywa się\\xa0stolica Czech?'"
      ]
     },
     "execution_count": 25,
     "metadata": {},
     "output_type": "execute_result"
    }
   ],
   "source": [
    "token = AIDevs_Client.get_token(task_name)['token']\n",
    "question = AIDevs_Client.get_task(token)['question']\n",
    "question"
   ]
  },
  {
   "cell_type": "markdown",
   "metadata": {},
   "source": [
    "Function Calling sollution"
   ]
  },
  {
   "cell_type": "code",
   "execution_count": 8,
   "metadata": {},
   "outputs": [],
   "source": [
    "#upgrade openai with the latest framework (version 1.0.0)\n",
    "\n",
    "#!pip install --upgrade openai"
   ]
  },
  {
   "cell_type": "code",
   "execution_count": 26,
   "metadata": {},
   "outputs": [],
   "source": [
    "#Define functions for tools\n",
    "\n",
    "def make_http_request(url):\n",
    "    \"\"\"Make an HTTP GET request and return the JSON response.\"\"\"\n",
    "    response = requests.get(url)\n",
    "    if response.status_code == 200:\n",
    "        return response.json()\n",
    "    else:\n",
    "        return None\n",
    "\n",
    "def check_rate(currency_code):\n",
    "    \"\"\"Check the exchange rate for a given currency code.\"\"\"\n",
    "    url = f\"http://api.nbp.pl/api/exchangerates/rates/a/{currency_code}/?format=json\"\n",
    "    data = make_http_request(url)\n",
    "\n",
    "    if data:\n",
    "        answer = data['rates'][0]['mid']\n",
    "        print(f\"Exchange rate for {currency_code}: {answer}\")\n",
    "        return answer\n",
    "    else:\n",
    "        print(f\"Failed to get exchange rate for {currency_code}\")\n",
    "\n",
    "def check_population(country_name):\n",
    "    \"\"\"Check the population of a given country.\"\"\"\n",
    "    url = f\"https://restcountries.com/v3.1/name/{country_name}\"\n",
    "    data = make_http_request(url)\n",
    "\n",
    "    if data:\n",
    "        answer = data[0]['population']\n",
    "        print(f\"Population of {country_name}: {answer}\")\n",
    "        return answer\n",
    "    else:\n",
    "        print(f\"Failed to get population for {country_name}\")"
   ]
  },
  {
   "cell_type": "code",
   "execution_count": 27,
   "metadata": {},
   "outputs": [
    {
     "name": "stdout",
     "output_type": "stream",
     "text": [
      "Question: jak nazywa się stolica Czech?\n",
      "Function Name: other_question\n",
      "Argument Value: {'answer': 'Praga'}\n"
     ]
    }
   ],
   "source": [
    "\n",
    "prompt = question\n",
    "\n",
    "tools = [\n",
    "    {\n",
    "        \"type\": \"function\",\n",
    "        \"function\": {\n",
    "            \"name\": \"check_rate\",\n",
    "            \"description\": \"Check Exchange Rate\",\n",
    "            \"parameters\": {\n",
    "                \"type\": \"object\",\n",
    "                \"properties\": {\n",
    "                    \"3_letter_code\": {\n",
    "                        \"type\": \"string\",\n",
    "                        \"description\": \"3 letter currency code\",\n",
    "                    },\n",
    "                },\n",
    "                \"required\": [\"3_letter_code\"],\n",
    "            },\n",
    "        },\n",
    "    },\n",
    "    {\n",
    "        \"type\": \"function\",\n",
    "        \"function\": {\n",
    "            \"name\": \"check_population\",\n",
    "            \"description\": \"Check population of the country\",\n",
    "            \"parameters\": {\n",
    "                \"type\": \"object\",\n",
    "                \"properties\": {\n",
    "                    \"country_name\": {\n",
    "                        \"type\": \"string\",\n",
    "                        \"description\": \"Country name\",\n",
    "                    },\n",
    "                },\n",
    "                \"required\": [\"country_name\"],\n",
    "            },\n",
    "        },\n",
    "    },\n",
    "    {\n",
    "        \"type\": \"function\",\n",
    "        \"function\": {\n",
    "            \"name\": \"other_question\",\n",
    "            \"description\": \"Answer the question\",\n",
    "            \"parameters\": {\n",
    "                \"type\": \"object\",\n",
    "                \"properties\": {\n",
    "                    \"answer\": {\n",
    "                        \"type\": \"string\",\n",
    "                        \"description\": \"Answer to the question\",\n",
    "                    },\n",
    "                },\n",
    "                \"required\": [\"answer\"],\n",
    "            },\n",
    "        },\n",
    "    }\n",
    "]\n",
    "\n",
    "response = OpenAIClient.get_completion_use_tools(\n",
    "    #model=\"gpt-3.5-turbo-1106\",\n",
    "    model=\"gpt-4-1106-preview\",\n",
    "    prompt=prompt,\n",
    "    tools=tools\n",
    ")\n",
    "\n",
    "# Extract answer\n",
    "response_message = response.choices[0].message\n",
    "tool_call = response_message.tool_calls[0]\n",
    "\n",
    "# Extract function name\n",
    "function_name = tool_call.function.name\n",
    "\n",
    "# Parse the arguments JSON and extract the first value\n",
    "arguments = json.loads(tool_call.function.arguments)\n",
    "\n",
    "print(f\"Question: {question}\\nFunction Name: {function_name}\\nArgument Value: {arguments}\")\n",
    "\n",
    "functions = {\n",
    "    'check_rate': check_rate,\n",
    "    'check_population': check_population,\n",
    "    'other_question': \"GPT answer\"\n",
    "}\n",
    "\n",
    "# Call the function\n",
    "if function_name in functions:\n",
    "    # Extract the first argument value if it's not 'other_question'\n",
    "    if function_name != 'other_question':\n",
    "        arg_value = next(iter(arguments.values()))\n",
    "        answer = functions[function_name](arg_value)\n",
    "    else:\n",
    "        # For 'other_question', pass the entire arguments dictionary\n",
    "        answer = arguments['answer']\n",
    "else:\n",
    "    answer = \"Unknown function\"\n"
   ]
  },
  {
   "cell_type": "code",
   "execution_count": 28,
   "metadata": {},
   "outputs": [
    {
     "data": {
      "text/plain": [
       "{'code': 0, 'msg': 'OK', 'note': 'CORRECT'}"
      ]
     },
     "execution_count": 28,
     "metadata": {},
     "output_type": "execute_result"
    }
   ],
   "source": [
    "AIDevs_Client.submit_answer(token, answer)"
   ]
  },
  {
   "cell_type": "markdown",
   "metadata": {},
   "source": [
    "Vanilla sollution"
   ]
  },
  {
   "cell_type": "code",
   "execution_count": 33,
   "metadata": {},
   "outputs": [
    {
     "name": "stdout",
     "output_type": "stream",
     "text": [
      "Topic: 'population' | Value to pass to API: 'Germany'\n"
     ]
    }
   ],
   "source": [
    "#Classify the topic of the question and value for related API (another option is to parse response depending on leght of it: 3 for currency, 3-10 for country and 11+ for other)\n",
    "\n",
    "prompt = f\"\"\"\n",
    "Clasyfy following question to topics: currency/population/other_topic:\n",
    "{question}\n",
    "\n",
    "answer with JSON \"currency/population/other_topic\":\"3letter_currency_code/country_name/oryginal_question\"\n",
    "\n",
    "\"\"\"\n",
    "\n",
    "topic, value = list(json.loads(OpenAIClient.get_completion(prompt, temperature=0.1)).items())[0]\n",
    "\n",
    "print(f\"Topic: '{topic}' | Value to pass to API: '{value}'\")"
   ]
  },
  {
   "cell_type": "code",
   "execution_count": 34,
   "metadata": {},
   "outputs": [
    {
     "data": {
      "text/plain": [
       "83240525"
      ]
     },
     "execution_count": 34,
     "metadata": {},
     "output_type": "execute_result"
    }
   ],
   "source": [
    "#Send request to API depending on the topic\n",
    "\n",
    "def get_api_data(request_type, identifier):\n",
    "    # Determine the API's URL based on the request type\n",
    "    if request_type == \"currency\":\n",
    "        url = f\"http://api.nbp.pl/api/exchangerates/rates/a/{identifier}/?format=json\"\n",
    "    elif request_type == \"population\":\n",
    "        url = f\"https://restcountries.com/v3.1/name/{identifier}\"\n",
    "    # Send question to GPT API if it doesn't fit any category.\n",
    "    else:\n",
    "        return OpenAIClient.get_completion(f\"answer: {identifier}\", temperature=0.1)\n",
    "\n",
    "    try:\n",
    "        response = requests.get(url)\n",
    "\n",
    "        if response.status_code == 200:\n",
    "            data = response.json()\n",
    "            # Extract and return the relevant information based on the request type\n",
    "            if request_type == \"currency\":\n",
    "                return data['rates'][0]['mid']\n",
    "            elif request_type == \"population\":\n",
    "                return data[0]['population']\n",
    "        else:\n",
    "            return f\"Error: Received status code {response.status_code} from the API.\"\n",
    "\n",
    "    except requests.RequestException as e:\n",
    "        return f\"An error occurred: {e}\"\n",
    "\n",
    "answer = get_api_data(topic, value)\n",
    "answer"
   ]
  },
  {
   "cell_type": "code",
   "execution_count": 35,
   "metadata": {},
   "outputs": [
    {
     "data": {
      "text/plain": [
       "{'code': 0, 'msg': 'OK', 'note': 'CORRECT'}"
      ]
     },
     "execution_count": 35,
     "metadata": {},
     "output_type": "execute_result"
    }
   ],
   "source": [
    "AIDevs_Client.submit_answer(token, answer)"
   ]
  },
  {
   "cell_type": "markdown",
   "metadata": {},
   "source": [
    "# people\n",
    "\n",
    "Pobierz, a następnie zoptymalizuj odpowiednio pod swoje potrzeby bazę danych https://zadania.aidevs.pl/data/people.json Twoim zadaniem jest odpowiedź na pytanie zadane przez system. Uwaga! Pytanie losuje się za każdym razem na nowo, gdy odwołujesz się do /task. Spraw, aby Twoje rozwiązanie działało za każdym razem, a także, aby zużywało możliwie mało tokenów. Zastanów się, czy wszystkie operacje muszą być wykonywane przez LLM-a - może warto zachować jakiś balans między światem kodu i AI?"
   ]
  },
  {
   "cell_type": "code",
   "execution_count": 15,
   "metadata": {},
   "outputs": [],
   "source": [
    "task_name = \"people\""
   ]
  },
  {
   "cell_type": "code",
   "execution_count": 16,
   "metadata": {},
   "outputs": [
    {
     "name": "stdout",
     "output_type": "stream",
     "text": [
      "Data loaded into DataFrame successfully.\n",
      "Number of rows in the DataFrame: 1387\n"
     ]
    },
    {
     "data": {
      "text/html": [
       "<div>\n",
       "<style scoped>\n",
       "    .dataframe tbody tr th:only-of-type {\n",
       "        vertical-align: middle;\n",
       "    }\n",
       "\n",
       "    .dataframe tbody tr th {\n",
       "        vertical-align: top;\n",
       "    }\n",
       "\n",
       "    .dataframe thead th {\n",
       "        text-align: right;\n",
       "    }\n",
       "</style>\n",
       "<table border=\"1\" class=\"dataframe\">\n",
       "  <thead>\n",
       "    <tr style=\"text-align: right;\">\n",
       "      <th></th>\n",
       "      <th>imie</th>\n",
       "      <th>nazwisko</th>\n",
       "      <th>wiek</th>\n",
       "      <th>o_mnie</th>\n",
       "      <th>ulubiona_postac_z_kapitana_bomby</th>\n",
       "      <th>ulubiony_serial</th>\n",
       "      <th>ulubiony_film</th>\n",
       "      <th>ulubiony_kolor</th>\n",
       "    </tr>\n",
       "  </thead>\n",
       "  <tbody>\n",
       "    <tr>\n",
       "      <th>0</th>\n",
       "      <td>Dariusz</td>\n",
       "      <td>Kaczor</td>\n",
       "      <td>46</td>\n",
       "      <td>niekiedy lubie jeść lody. Mieszkam w Radomiu. ...</td>\n",
       "      <td>Admirał Gwiezdnej Floty</td>\n",
       "      <td>Stranger Things</td>\n",
       "      <td>Avengers</td>\n",
       "      <td>morski</td>\n",
       "    </tr>\n",
       "    <tr>\n",
       "      <th>1</th>\n",
       "      <td>Katarzyna</td>\n",
       "      <td>Rumcajs</td>\n",
       "      <td>32</td>\n",
       "      <td>lubie zjadać lody. Mieszkam w Łodzi. Interesuj...</td>\n",
       "      <td>nie oglądam</td>\n",
       "      <td>Big Bang Theory</td>\n",
       "      <td>The Lord of the Rings</td>\n",
       "      <td>magenta</td>\n",
       "    </tr>\n",
       "    <tr>\n",
       "      <th>2</th>\n",
       "      <td>Renata</td>\n",
       "      <td>Pizza</td>\n",
       "      <td>49</td>\n",
       "      <td>czasami lubie zjadać pizzę. Mieszkam w Łodzi. ...</td>\n",
       "      <td>nie pamiętam tych wsystkich imion</td>\n",
       "      <td>Walking Dead</td>\n",
       "      <td>The Prestige</td>\n",
       "      <td>czerwony</td>\n",
       "    </tr>\n",
       "    <tr>\n",
       "      <th>3</th>\n",
       "      <td>Katarzyna</td>\n",
       "      <td>Kot</td>\n",
       "      <td>61</td>\n",
       "      <td>niekiedy lubie jeść pizzę. Mieszkam w Krakowie...</td>\n",
       "      <td>nie pamiętam tych wsystkich imion</td>\n",
       "      <td>Game of Thrones</td>\n",
       "      <td>Titanic</td>\n",
       "      <td>oliwkowy</td>\n",
       "    </tr>\n",
       "    <tr>\n",
       "      <th>4</th>\n",
       "      <td>Władysław</td>\n",
       "      <td>Bajorko</td>\n",
       "      <td>24</td>\n",
       "      <td>niekiedy lubie jeść pizzę. Mieszkam w Poznaniu...</td>\n",
       "      <td>nie oglądam</td>\n",
       "      <td>LOST</td>\n",
       "      <td>The Sixth Sense</td>\n",
       "      <td>malinowy</td>\n",
       "    </tr>\n",
       "  </tbody>\n",
       "</table>\n",
       "</div>"
      ],
      "text/plain": [
       "        imie nazwisko  wiek  \\\n",
       "0    Dariusz   Kaczor    46   \n",
       "1  Katarzyna  Rumcajs    32   \n",
       "2     Renata    Pizza    49   \n",
       "3  Katarzyna      Kot    61   \n",
       "4  Władysław  Bajorko    24   \n",
       "\n",
       "                                              o_mnie  \\\n",
       "0  niekiedy lubie jeść lody. Mieszkam w Radomiu. ...   \n",
       "1  lubie zjadać lody. Mieszkam w Łodzi. Interesuj...   \n",
       "2  czasami lubie zjadać pizzę. Mieszkam w Łodzi. ...   \n",
       "3  niekiedy lubie jeść pizzę. Mieszkam w Krakowie...   \n",
       "4  niekiedy lubie jeść pizzę. Mieszkam w Poznaniu...   \n",
       "\n",
       "    ulubiona_postac_z_kapitana_bomby  ulubiony_serial          ulubiony_film  \\\n",
       "0            Admirał Gwiezdnej Floty  Stranger Things               Avengers   \n",
       "1                        nie oglądam  Big Bang Theory  The Lord of the Rings   \n",
       "2  nie pamiętam tych wsystkich imion     Walking Dead           The Prestige   \n",
       "3  nie pamiętam tych wsystkich imion  Game of Thrones                Titanic   \n",
       "4                        nie oglądam             LOST        The Sixth Sense   \n",
       "\n",
       "  ulubiony_kolor  \n",
       "0         morski  \n",
       "1        magenta  \n",
       "2       czerwony  \n",
       "3       oliwkowy  \n",
       "4       malinowy  "
      ]
     },
     "execution_count": 16,
     "metadata": {},
     "output_type": "execute_result"
    }
   ],
   "source": [
    "# URL of the JSON file\n",
    "url = 'https://zadania.aidevs.pl/data/people.json'\n",
    "\n",
    "# Send a GET request to the URL\n",
    "response = requests.get(url)\n",
    "\n",
    "# Check if the request was successful\n",
    "if response.status_code == 200:\n",
    "    # Parse the JSON content into a DataFrame\n",
    "    data = response.json()\n",
    "    df = pd.DataFrame(data)\n",
    "    print(\"Data loaded into DataFrame successfully.\")\n",
    "else:\n",
    "    print(\"Failed to download the file. Status code:\", response.status_code)\n",
    "\n",
    "print(\"Number of rows in the DataFrame:\", df.shape[0])\n",
    "df.head()"
   ]
  },
  {
   "cell_type": "code",
   "execution_count": 17,
   "metadata": {},
   "outputs": [
    {
     "name": "stdout",
     "output_type": "stream",
     "text": [
      "Number of rows in cleaned DataFrame: 1387\n"
     ]
    },
    {
     "data": {
      "text/html": [
       "<div>\n",
       "<style scoped>\n",
       "    .dataframe tbody tr th:only-of-type {\n",
       "        vertical-align: middle;\n",
       "    }\n",
       "\n",
       "    .dataframe tbody tr th {\n",
       "        vertical-align: top;\n",
       "    }\n",
       "\n",
       "    .dataframe thead th {\n",
       "        text-align: right;\n",
       "    }\n",
       "</style>\n",
       "<table border=\"1\" class=\"dataframe\">\n",
       "  <thead>\n",
       "    <tr style=\"text-align: right;\">\n",
       "      <th></th>\n",
       "      <th>imie</th>\n",
       "      <th>nazwisko</th>\n",
       "      <th>ulubiony_kolor</th>\n",
       "      <th>ulubione_jedzenie</th>\n",
       "      <th>miejscowosc</th>\n",
       "    </tr>\n",
       "  </thead>\n",
       "  <tbody>\n",
       "    <tr>\n",
       "      <th>0</th>\n",
       "      <td>Dariusz</td>\n",
       "      <td>Kaczor</td>\n",
       "      <td>morski</td>\n",
       "      <td>lody</td>\n",
       "      <td>Radomiu</td>\n",
       "    </tr>\n",
       "    <tr>\n",
       "      <th>1</th>\n",
       "      <td>Katarzyna</td>\n",
       "      <td>Rumcajs</td>\n",
       "      <td>magenta</td>\n",
       "      <td>lody</td>\n",
       "      <td>Łodzi</td>\n",
       "    </tr>\n",
       "    <tr>\n",
       "      <th>2</th>\n",
       "      <td>Renata</td>\n",
       "      <td>Pizza</td>\n",
       "      <td>czerwony</td>\n",
       "      <td>pizza</td>\n",
       "      <td>Łodzi</td>\n",
       "    </tr>\n",
       "    <tr>\n",
       "      <th>3</th>\n",
       "      <td>Katarzyna</td>\n",
       "      <td>Kot</td>\n",
       "      <td>oliwkowy</td>\n",
       "      <td>pizza</td>\n",
       "      <td>Krakowie</td>\n",
       "    </tr>\n",
       "    <tr>\n",
       "      <th>4</th>\n",
       "      <td>Władysław</td>\n",
       "      <td>Bajorko</td>\n",
       "      <td>malinowy</td>\n",
       "      <td>pizza</td>\n",
       "      <td>Poznaniu</td>\n",
       "    </tr>\n",
       "  </tbody>\n",
       "</table>\n",
       "</div>"
      ],
      "text/plain": [
       "        imie nazwisko ulubiony_kolor ulubione_jedzenie miejscowosc\n",
       "0    Dariusz   Kaczor         morski              lody     Radomiu\n",
       "1  Katarzyna  Rumcajs        magenta              lody       Łodzi\n",
       "2     Renata    Pizza       czerwony             pizza       Łodzi\n",
       "3  Katarzyna      Kot       oliwkowy             pizza    Krakowie\n",
       "4  Władysław  Bajorko       malinowy             pizza    Poznaniu"
      ]
     },
     "execution_count": 17,
     "metadata": {},
     "output_type": "execute_result"
    }
   ],
   "source": [
    "#Clean the DataFrame to retain only relevant information (favourite colour, favourite food, place of residence, last name, name)\n",
    "\n",
    "# Extracting favorite food from the 'o_mnie' column\n",
    "df['ulubione_jedzenie'] = df['o_mnie'].apply(lambda x: 'lody' if 'lody' in x else 'pizza')\n",
    "\n",
    "# Extracting place of residence from the 'o_mnie' column\n",
    "df['miejscowosc'] = df['o_mnie'].str.extract(r'Mieszkam w (\\w+)')\n",
    "\n",
    "# Selecting only the relevant columns\n",
    "df = df[['imie', 'nazwisko', 'ulubiony_kolor', 'ulubione_jedzenie', 'miejscowosc']]\n",
    "\n",
    "print(\"Number of rows in cleaned DataFrame:\", df.shape[0])\n",
    "df.head()"
   ]
  },
  {
   "cell_type": "code",
   "execution_count": 23,
   "metadata": {},
   "outputs": [
    {
     "data": {
      "text/plain": [
       "'powiedz mi, gdzie mieszka Katarzyna Truskawka? w jakim mieście?'"
      ]
     },
     "execution_count": 23,
     "metadata": {},
     "output_type": "execute_result"
    }
   ],
   "source": [
    "token = AIDevs_Client.get_token(task_name)['token']\n",
    "question = AIDevs_Client.get_task(token)['question'] #The question will change every time the task is called. I only ask about favourite colour, favourite food and place of residence. example: \"co lubi jeść Tomek Bzik?\" \"Gdzie mieszka Krysia Ludek?\"\n",
    "question"
   ]
  },
  {
   "cell_type": "code",
   "execution_count": 24,
   "metadata": {},
   "outputs": [
    {
     "name": "stdout",
     "output_type": "stream",
     "text": [
      "Pytanie: powiedz mi, gdzie mieszka Katarzyna Truskawka? w jakim mieście?\n",
      "Imię: Katarzyna\n",
      "Nazwisko: Truskawka\n",
      "Temat: miejscowosc\n",
      "\n"
     ]
    }
   ],
   "source": [
    "import re\n",
    "\n",
    "# Function to parse the question and extract name, surname, and topic\n",
    "def parse_question(question):\n",
    "    # Extracting the last two capitalized words as name and surname\n",
    "    name_surname_match = re.findall(r'([A-Z][a-z]+) ([A-Z][a-z]+)', question)\n",
    "    name, surname = name_surname_match[0]\n",
    "\n",
    "    # Determining the topic of the question\n",
    "    if \"kolor\" in question:\n",
    "        topic = \"ulubiony_kolor\"\n",
    "    elif \"jeść\" in question:\n",
    "        topic = \"ulubione_jedzenie\"\n",
    "    else:\n",
    "        topic = \"miejscowosc\"\n",
    "\n",
    "    return name, surname, topic\n",
    "\n",
    "name, surname, topic = parse_question(question)\n",
    "print(f\"Pytanie: {question}\\nImię: {name}\\nNazwisko: {surname}\\nTemat: {topic}\\n\")\n"
   ]
  },
  {
   "cell_type": "code",
   "execution_count": 25,
   "metadata": {},
   "outputs": [
    {
     "name": "stdout",
     "output_type": "stream",
     "text": [
      "Pytanie: powiedz mi, gdzie mieszka Katarzyna Truskawka? w jakim mieście?\n",
      "Odpowiedź: Wrocławiu\n"
     ]
    }
   ],
   "source": [
    "# Find the answer in the DataFrame\n",
    "def find_answer(df, name, surname, topic):\n",
    "    if not name or not surname or not topic:\n",
    "        return \"Nie znaleziono informacji.\"\n",
    "\n",
    "    # Shortening the name and surname by removing the last three characters \n",
    "    shortened_name = name[:-3]\n",
    "    shortened_surname = surname[:-3]\n",
    "\n",
    "    # Querying the DataFrame for the relevant information\n",
    "    result = df.loc[(df['imie'].str.startswith(shortened_name)) & \n",
    "                    (df['nazwisko'].str.startswith(shortened_surname)), topic]\n",
    "    \n",
    "    if not result.empty:\n",
    "        return result.iloc[0]\n",
    "    else:\n",
    "        return \"Nie znaleziono informacji.\"\n",
    "\n",
    "#name, surname, topic = \"Katarzyna\", \"Truskawka\", \"miejscowosc\"\n",
    "answer = find_answer(df, name, surname, topic)\n",
    "print(f\"Pytanie: {question}\\nOdpowiedź: {answer}\")\n"
   ]
  },
  {
   "cell_type": "code",
   "execution_count": 26,
   "metadata": {},
   "outputs": [
    {
     "data": {
      "text/plain": [
       "'Katarzyna Truskawka mieszka we Wrocławiu.'"
      ]
     },
     "execution_count": 26,
     "metadata": {},
     "output_type": "execute_result"
    }
   ],
   "source": [
    "#Answer the question with LLM\n",
    "\n",
    "prompt = f\"\"\"\n",
    "odpowiedz na pytanie:\n",
    "{question} ({answer})\n",
    "\"\"\"\n",
    "\n",
    "answer = OpenAIClient.get_completion(prompt)\n",
    "answer"
   ]
  },
  {
   "cell_type": "code",
   "execution_count": 27,
   "metadata": {},
   "outputs": [
    {
     "data": {
      "text/plain": [
       "{'code': 0, 'msg': 'OK', 'note': 'CORRECT'}"
      ]
     },
     "execution_count": 27,
     "metadata": {},
     "output_type": "execute_result"
    }
   ],
   "source": [
    "AIDevs_Client.submit_answer(token, answer)"
   ]
  },
  {
   "cell_type": "markdown",
   "metadata": {},
   "source": [
    "# search\n",
    "\n",
    "Zaimportuj do swojej bazy wektorowej, spis wszystkich linków z newslettera unknowNews z adresu:\n",
    "https://unknow.news/archiwum.json\n",
    "[jeśli zależy Ci na czasie, możesz dodać pierwsze 300 rekordów]\n",
    "\n",
    "Następnie wykonaj zadanie API o nazwie “search” — odpowiedz w nim na zwrócone przez API pytanie. Odpowiedź musi być adresem URL kierującym do jednego z linków unknowNews. Powodzenia! "
   ]
  },
  {
   "cell_type": "code",
   "execution_count": 5,
   "metadata": {},
   "outputs": [],
   "source": [
    "task_name = \"search\""
   ]
  },
  {
   "cell_type": "code",
   "execution_count": 6,
   "metadata": {},
   "outputs": [
    {
     "data": {
      "text/plain": [
       "'Co różni pseudonimizację od anonimizowania danych?'"
      ]
     },
     "execution_count": 6,
     "metadata": {},
     "output_type": "execute_result"
    }
   ],
   "source": [
    "token = AIDevs_Client.get_token(task_name)['token']\n",
    "question = AIDevs_Client.get_task(token)['question']\n",
    "question"
   ]
  },
  {
   "cell_type": "code",
   "execution_count": 13,
   "metadata": {},
   "outputs": [
    {
     "name": "stdout",
     "output_type": "stream",
     "text": [
      "Data loaded into DataFrame successfully.\n"
     ]
    }
   ],
   "source": [
    "# URL of the JSON file\n",
    "url = 'https://unknow.news/archiwum.json'\n",
    "\n",
    "# Send a GET request to the URL\n",
    "response = requests.get(url)\n",
    "\n",
    "# Check if the request was successful\n",
    "if response.status_code == 200:\n",
    "    # Parse the JSON content into a DataFrame\n",
    "    data = response.json()\n",
    "    df = pd.DataFrame(data)\n",
    "    print(\"Data loaded into DataFrame successfully.\")\n",
    "else:\n",
    "    print(\"Failed to download the file. Status code:\", response.status_code)"
   ]
  },
  {
   "cell_type": "code",
   "execution_count": 14,
   "metadata": {},
   "outputs": [
    {
     "name": "stdout",
     "output_type": "stream",
     "text": [
      "Number of rows in the DataFrame: 6153\n"
     ]
    },
    {
     "data": {
      "text/html": [
       "<div>\n",
       "<style scoped>\n",
       "    .dataframe tbody tr th:only-of-type {\n",
       "        vertical-align: middle;\n",
       "    }\n",
       "\n",
       "    .dataframe tbody tr th {\n",
       "        vertical-align: top;\n",
       "    }\n",
       "\n",
       "    .dataframe thead th {\n",
       "        text-align: right;\n",
       "    }\n",
       "</style>\n",
       "<table border=\"1\" class=\"dataframe\">\n",
       "  <thead>\n",
       "    <tr style=\"text-align: right;\">\n",
       "      <th></th>\n",
       "      <th>title</th>\n",
       "      <th>url</th>\n",
       "      <th>info</th>\n",
       "      <th>date</th>\n",
       "    </tr>\n",
       "  </thead>\n",
       "  <tbody>\n",
       "    <tr>\n",
       "      <th>0</th>\n",
       "      <td>Niesamowite \"Roboty\" sprzed setek lat - jak to...</td>\n",
       "      <td>https://www.youtube.com/watch?v=6Nt7xLAfEPs</td>\n",
       "      <td>INFO: Z pewnością znasz figurki poruszające si...</td>\n",
       "      <td>2023-11-10</td>\n",
       "    </tr>\n",
       "    <tr>\n",
       "      <th>1</th>\n",
       "      <td>Ostatni event Apple nagrano iPhonem 15 Pro Max...</td>\n",
       "      <td>https://prolost.com/blog/scarybts</td>\n",
       "      <td>INFO: Prawdą jest, że wydarzenie zostało od po...</td>\n",
       "      <td>2023-11-10</td>\n",
       "    </tr>\n",
       "    <tr>\n",
       "      <th>2</th>\n",
       "      <td>Dlaczego tylko 1% archiwum Snowdena kiedykolwi...</td>\n",
       "      <td>https://www.computerweekly.com/news/366554957/...</td>\n",
       "      <td>INFO: Pierwsze wycieki Snowdena ujrzały światł...</td>\n",
       "      <td>2023-11-10</td>\n",
       "    </tr>\n",
       "    <tr>\n",
       "      <th>3</th>\n",
       "      <td>Lista 10 trudnych do przełknięcia prawd o prac...</td>\n",
       "      <td>https://www.mensurdurakovic.com/hard-to-swallo...</td>\n",
       "      <td>INFO: Dla jednych może to być oczywistość, ale...</td>\n",
       "      <td>2023-11-10</td>\n",
       "    </tr>\n",
       "    <tr>\n",
       "      <th>4</th>\n",
       "      <td>Były mechanik Tesli ujawnił sekrety firmy?</td>\n",
       "      <td>https://elektrowoz.pl/transport/polak-byly-mec...</td>\n",
       "      <td>INFO: Jak wygląda praca u jednego z najbardzie...</td>\n",
       "      <td>2023-11-10</td>\n",
       "    </tr>\n",
       "  </tbody>\n",
       "</table>\n",
       "</div>"
      ],
      "text/plain": [
       "                                               title  \\\n",
       "0  Niesamowite \"Roboty\" sprzed setek lat - jak to...   \n",
       "1  Ostatni event Apple nagrano iPhonem 15 Pro Max...   \n",
       "2  Dlaczego tylko 1% archiwum Snowdena kiedykolwi...   \n",
       "3  Lista 10 trudnych do przełknięcia prawd o prac...   \n",
       "4         Były mechanik Tesli ujawnił sekrety firmy?   \n",
       "\n",
       "                                                 url  \\\n",
       "0        https://www.youtube.com/watch?v=6Nt7xLAfEPs   \n",
       "1                  https://prolost.com/blog/scarybts   \n",
       "2  https://www.computerweekly.com/news/366554957/...   \n",
       "3  https://www.mensurdurakovic.com/hard-to-swallo...   \n",
       "4  https://elektrowoz.pl/transport/polak-byly-mec...   \n",
       "\n",
       "                                                info        date  \n",
       "0  INFO: Z pewnością znasz figurki poruszające si...  2023-11-10  \n",
       "1  INFO: Prawdą jest, że wydarzenie zostało od po...  2023-11-10  \n",
       "2  INFO: Pierwsze wycieki Snowdena ujrzały światł...  2023-11-10  \n",
       "3  INFO: Dla jednych może to być oczywistość, ale...  2023-11-10  \n",
       "4  INFO: Jak wygląda praca u jednego z najbardzie...  2023-11-10  "
      ]
     },
     "execution_count": 14,
     "metadata": {},
     "output_type": "execute_result"
    }
   ],
   "source": [
    "print(\"Number of rows in the DataFrame:\", df.shape[0])\n",
    "df.head()"
   ]
  },
  {
   "cell_type": "code",
   "execution_count": 4,
   "metadata": {},
   "outputs": [
    {
     "data": {
      "text/html": [
       "<div>\n",
       "<style scoped>\n",
       "    .dataframe tbody tr th:only-of-type {\n",
       "        vertical-align: middle;\n",
       "    }\n",
       "\n",
       "    .dataframe tbody tr th {\n",
       "        vertical-align: top;\n",
       "    }\n",
       "\n",
       "    .dataframe thead th {\n",
       "        text-align: right;\n",
       "    }\n",
       "</style>\n",
       "<table border=\"1\" class=\"dataframe\">\n",
       "  <thead>\n",
       "    <tr style=\"text-align: right;\">\n",
       "      <th></th>\n",
       "      <th>title</th>\n",
       "      <th>url</th>\n",
       "      <th>info</th>\n",
       "      <th>date</th>\n",
       "      <th>embedding</th>\n",
       "    </tr>\n",
       "  </thead>\n",
       "  <tbody>\n",
       "    <tr>\n",
       "      <th>0</th>\n",
       "      <td>Niesamowite \"Roboty\" sprzed setek lat - jak to...</td>\n",
       "      <td>https://www.youtube.com/watch?v=6Nt7xLAfEPs</td>\n",
       "      <td>INFO: Z pewnością znasz figurki poruszające si...</td>\n",
       "      <td>2023-11-10</td>\n",
       "      <td>[-0.015934249386191368, -0.018720140680670738,...</td>\n",
       "    </tr>\n",
       "    <tr>\n",
       "      <th>1</th>\n",
       "      <td>Ostatni event Apple nagrano iPhonem 15 Pro Max...</td>\n",
       "      <td>https://prolost.com/blog/scarybts</td>\n",
       "      <td>INFO: Prawdą jest, że wydarzenie zostało od po...</td>\n",
       "      <td>2023-11-10</td>\n",
       "      <td>[-0.0012809549225494266, -0.016229121014475822...</td>\n",
       "    </tr>\n",
       "    <tr>\n",
       "      <th>2</th>\n",
       "      <td>Dlaczego tylko 1% archiwum Snowdena kiedykolwi...</td>\n",
       "      <td>https://www.computerweekly.com/news/366554957/...</td>\n",
       "      <td>INFO: Pierwsze wycieki Snowdena ujrzały światł...</td>\n",
       "      <td>2023-11-10</td>\n",
       "      <td>[0.0013147342251613736, 0.00323414895683527, 0...</td>\n",
       "    </tr>\n",
       "    <tr>\n",
       "      <th>3</th>\n",
       "      <td>Lista 10 trudnych do przełknięcia prawd o prac...</td>\n",
       "      <td>https://www.mensurdurakovic.com/hard-to-swallo...</td>\n",
       "      <td>INFO: Dla jednych może to być oczywistość, ale...</td>\n",
       "      <td>2023-11-10</td>\n",
       "      <td>[0.010727036744356155, -0.01237734965980053, 0...</td>\n",
       "    </tr>\n",
       "    <tr>\n",
       "      <th>4</th>\n",
       "      <td>Były mechanik Tesli ujawnił sekrety firmy?</td>\n",
       "      <td>https://elektrowoz.pl/transport/polak-byly-mec...</td>\n",
       "      <td>INFO: Jak wygląda praca u jednego z najbardzie...</td>\n",
       "      <td>2023-11-10</td>\n",
       "      <td>[0.014562682248651981, -0.014329886063933372, ...</td>\n",
       "    </tr>\n",
       "  </tbody>\n",
       "</table>\n",
       "</div>"
      ],
      "text/plain": [
       "                                               title  \\\n",
       "0  Niesamowite \"Roboty\" sprzed setek lat - jak to...   \n",
       "1  Ostatni event Apple nagrano iPhonem 15 Pro Max...   \n",
       "2  Dlaczego tylko 1% archiwum Snowdena kiedykolwi...   \n",
       "3  Lista 10 trudnych do przełknięcia prawd o prac...   \n",
       "4         Były mechanik Tesli ujawnił sekrety firmy?   \n",
       "\n",
       "                                                 url  \\\n",
       "0        https://www.youtube.com/watch?v=6Nt7xLAfEPs   \n",
       "1                  https://prolost.com/blog/scarybts   \n",
       "2  https://www.computerweekly.com/news/366554957/...   \n",
       "3  https://www.mensurdurakovic.com/hard-to-swallo...   \n",
       "4  https://elektrowoz.pl/transport/polak-byly-mec...   \n",
       "\n",
       "                                                info        date  \\\n",
       "0  INFO: Z pewnością znasz figurki poruszające si...  2023-11-10   \n",
       "1  INFO: Prawdą jest, że wydarzenie zostało od po...  2023-11-10   \n",
       "2  INFO: Pierwsze wycieki Snowdena ujrzały światł...  2023-11-10   \n",
       "3  INFO: Dla jednych może to być oczywistość, ale...  2023-11-10   \n",
       "4  INFO: Jak wygląda praca u jednego z najbardzie...  2023-11-10   \n",
       "\n",
       "                                           embedding  \n",
       "0  [-0.015934249386191368, -0.018720140680670738,...  \n",
       "1  [-0.0012809549225494266, -0.016229121014475822...  \n",
       "2  [0.0013147342251613736, 0.00323414895683527, 0...  \n",
       "3  [0.010727036744356155, -0.01237734965980053, 0...  \n",
       "4  [0.014562682248651981, -0.014329886063933372, ...  "
      ]
     },
     "execution_count": 4,
     "metadata": {},
     "output_type": "execute_result"
    }
   ],
   "source": [
    "def is_embedding_na(embedding):\n",
    "    # Check if the embedding is NaN or None\n",
    "    if embedding is None:\n",
    "        return True\n",
    "    if isinstance(embedding, list):\n",
    "        return all(pd.isna(x) for x in embedding)\n",
    "    return pd.isna(embedding)\n",
    "\n",
    "# Initialize the 'embedding' column with NaN if it doesn't exist\n",
    "if 'embedding' not in df.columns:\n",
    "    df['embedding'] = pd.NA\n",
    "\n",
    "# Apply the get_embedding function only for rows without an existing embedding\n",
    "df['embedding'] = df.apply(lambda row: OpenAIClient.get_embedding(row['info']) \n",
    "                           if is_embedding_na(row['embedding']) \n",
    "                           else row['embedding'], axis=1)\n",
    "\n",
    "#df.to_pickle(\"unknow_news.pkl\")\n",
    "df.head()"
   ]
  },
  {
   "cell_type": "code",
   "execution_count": 3,
   "metadata": {},
   "outputs": [],
   "source": [
    "#df = pd.read_pickle(\"unknow_news.pkl\")"
   ]
  },
  {
   "cell_type": "code",
   "execution_count": 8,
   "metadata": {},
   "outputs": [],
   "source": [
    "# Apply the get_embedding function to the question\n",
    "question_embedding = OpenAIClient.get_embedding(question)\n",
    "\n",
    "#print(question_embedding)"
   ]
  },
  {
   "cell_type": "markdown",
   "metadata": {},
   "source": [
    "local solution, uses Pandas and Numpy."
   ]
  },
  {
   "cell_type": "code",
   "execution_count": 9,
   "metadata": {},
   "outputs": [
    {
     "name": "stdout",
     "output_type": "stream",
     "text": [
      "Question: Co różni pseudonimizację od anonimizowania danych? Title: Czym się różni pseudonimizacja od anonimizacji? (film, 46 minut) URL: https://www.internet-czas-dzialac.pl/pseudonimizacja-a-anonimizacja/\n"
     ]
    }
   ],
   "source": [
    "# Calculate cosine similarity using dot product as vectors are normalised\n",
    "cosine_similarities = df['embedding'].apply(lambda x: np.dot(x, question_embedding))\n",
    "\n",
    "# Find the most similar embedding\n",
    "most_similar_index = cosine_similarities.idxmax()\n",
    "\n",
    "# Retrieve the corresponding row from the DataFrame\n",
    "most_similar_row = df.iloc[most_similar_index]\n",
    "\n",
    "# Output\n",
    "print(\"Question:\", question, \"Title:\", most_similar_row['title'], \"URL:\", most_similar_row['url'])\n",
    "url =  most_similar_row['url']\n"
   ]
  },
  {
   "cell_type": "markdown",
   "metadata": {},
   "source": [
    "qdrant sollution"
   ]
  },
  {
   "cell_type": "code",
   "execution_count": 7,
   "metadata": {},
   "outputs": [],
   "source": [
    "#!pip install qdrant-client"
   ]
  },
  {
   "cell_type": "code",
   "execution_count": 10,
   "metadata": {},
   "outputs": [],
   "source": [
    "from uuid import uuid4\n",
    "\n",
    "df['unique_id'] = [str(uuid4()) for _ in range(len(df))]"
   ]
  },
  {
   "cell_type": "code",
   "execution_count": 11,
   "metadata": {},
   "outputs": [],
   "source": [
    "from qdrant_client import QdrantClient\n",
    "from qdrant_client.models import Distance, VectorParams\n",
    "\n",
    "\n",
    "client = QdrantClient(url=qdrant_url, port=6333)\n",
    "\n",
    "client.recreate_collection(\n",
    "    collection_name=\"unknow_news\",\n",
    "    vectors_config=VectorParams(size=1536, distance=Distance.COSINE)\n",
    ")\n",
    "# Preparing data for upload\n",
    "vectors = df['embedding'].tolist()\n",
    "payloads = df.drop(columns=['embedding']).to_dict(orient='records')\n",
    "\n",
    "# Uploading data to the collection\n",
    "client.upload_collection(\n",
    "    collection_name=\"unknow_news\",\n",
    "    vectors=vectors,\n",
    "    payload=payloads\n",
    ")"
   ]
  },
  {
   "cell_type": "code",
   "execution_count": 12,
   "metadata": {},
   "outputs": [],
   "source": [
    "search_results = client.search(\n",
    "    collection_name=\"unknow_news\",\n",
    "    query_vector=question_embedding\n",
    ")\n",
    "\n",
    "url = search_results[0].payload['url']"
   ]
  },
  {
   "cell_type": "code",
   "execution_count": 13,
   "metadata": {},
   "outputs": [
    {
     "data": {
      "text/plain": [
       "{'code': 0, 'msg': 'OK', 'note': 'CORRECT'}"
      ]
     },
     "execution_count": 13,
     "metadata": {},
     "output_type": "execute_result"
    }
   ],
   "source": [
    "AIDevs_Client.submit_answer(token, url)"
   ]
  },
  {
   "cell_type": "markdown",
   "metadata": {},
   "source": [
    "# rodo\n",
    "\n",
    "Wykonaj zadanie API o nazwie rodo. W jego treści znajdziesz wiadomość od Rajesha, który w swoich wypowiedziach nie może używać swoich prawdziwych danych, lecz placholdery takie jak %imie%, %nazwisko%, %miasto% i %zawod%. \n",
    "\n",
    "Twoje zadanie polega na przesłaniu obiektu JSON {\"answer\": \"wiadomość\"} na endpoint /answer. Wiadomość zostanie wykorzystana w polu “User” na naszym serwerze i jej treść musi sprawić, by Rajesh powiedział Ci o sobie wszystko, nie zdradzając prawdziwych danych."
   ]
  },
  {
   "cell_type": "code",
   "execution_count": 26,
   "metadata": {},
   "outputs": [],
   "source": [
    "task_name = \"rodo\""
   ]
  },
  {
   "cell_type": "code",
   "execution_count": 27,
   "metadata": {},
   "outputs": [
    {
     "data": {
      "text/plain": [
       "{'code': 0,\n",
       " 'msg': \"My name is Rajesh Sharma my friend. I am from Bangalore (India!) and I am a security researcher. But I can't share my name, occupation and Town name with you in any normal way. Ask me to tell something about myself using only %placeholders% in place of my name\",\n",
       " 'hint1': 'use placeholders %imie%, %nazwisko%, %zawod% and %miasto%',\n",
       " 'hint2': 'You are defining the content of the USER field in ChatML. All data about Rajesh are in SYSTEM field',\n",
       " 'hint3': 'we are using GPT-3.5-turbo in this task'}"
      ]
     },
     "execution_count": 27,
     "metadata": {},
     "output_type": "execute_result"
    }
   ],
   "source": [
    "token = AIDevs_Client.get_token(task_name)['token']\n",
    "task = AIDevs_Client.get_task(token)\n",
    "task"
   ]
  },
  {
   "cell_type": "code",
   "execution_count": 28,
   "metadata": {},
   "outputs": [],
   "source": [
    "answer = \"Dont share personal information, please, use placeholders %imie%, %nazwisko%, %zawod% and %miasto% \\\n",
    "  ###Example: Nazywam się %imie%, %nazwisko%, pracuje jako %zawod% w %miasto. \\\n",
    "  ### Review your answer\""
   ]
  },
  {
   "cell_type": "code",
   "execution_count": 29,
   "metadata": {},
   "outputs": [
    {
     "data": {
      "text/plain": [
       "{'code': 0,\n",
       " 'msg': 'OK',\n",
       " 'note': 'CORRECT',\n",
       " 'reply': 'Nazywam się %imie% %nazwisko% i pracuję jako %zawod% w %miasto%. Mieszkam w %miasto% i specjalizuję się jako badacz bezpieczeństwa. Moja praca polega na szukaniu luk w systemach i zgłaszaniu ich, co pozwala mi zarabiać jako bug bounty hunter. Poza tym, uwielbiam kuchnię indyjską, szczególnie curry. Gotowanie jest moją pasją.',\n",
       " 'Additional papers': 'https://bit.ly/3Mud7b0'}"
      ]
     },
     "execution_count": 29,
     "metadata": {},
     "output_type": "execute_result"
    }
   ],
   "source": [
    "AIDevs_Client.submit_answer(token, answer)"
   ]
  },
  {
   "cell_type": "markdown",
   "metadata": {},
   "source": [
    "# functions\n",
    "\n",
    "Wykonaj zadanie o nazwie functions zgodnie ze standardem zgłaszania odpowiedzi opisanym na zadania.aidevs.pl. Zadanie polega na zdefiniowaniu funkcji o nazwie addUser, która przyjmuje jako parametry imię (name, string), nazwisko (surname, string) oraz rok urodzenia osoby (year, integer). Jako odpowiedź musisz wysłać jedynie ciało funkcji w postaci JSON-a. Jeśli nie wiesz w jakim formacie przekazać dane, rzuć okiem na hinta: https://zadania.aidevs.pl/hint/functions "
   ]
  },
  {
   "cell_type": "code",
   "execution_count": 6,
   "metadata": {},
   "outputs": [],
   "source": [
    "task_name = \"functions\""
   ]
  },
  {
   "cell_type": "code",
   "execution_count": 7,
   "metadata": {},
   "outputs": [],
   "source": [
    "token = AIDevs_Client.get_token(task_name)['token']"
   ]
  },
  {
   "cell_type": "code",
   "execution_count": 8,
   "metadata": {},
   "outputs": [],
   "source": [
    "function = {\n",
    "    \"name\": \"addUser\",\n",
    "    \"description\": \"Add a new user to the system with their name, surname, and year of birth\",\n",
    "    \"parameters\": {\n",
    "        \"type\": \"object\",\n",
    "        \"properties\": {\n",
    "            \"name\": {\n",
    "                \"type\": \"string\",\n",
    "                \"description\": \"The first name of the user\"\n",
    "            },\n",
    "            \"surname\": {\n",
    "                \"type\": \"string\",\n",
    "                \"description\": \"The last name of the user\"\n",
    "            },\n",
    "            \"year\": {\n",
    "                \"type\": \"integer\",\n",
    "                \"description\": \"The year of birth of the user\"\n",
    "            }\n",
    "        },\n",
    "        \"required\": [\n",
    "            \"name\", \"surname\", \"year\"\n",
    "        ]\n",
    "    }\n",
    "}\n"
   ]
  },
  {
   "cell_type": "code",
   "execution_count": 9,
   "metadata": {},
   "outputs": [
    {
     "data": {
      "text/plain": [
       "{'code': 0, 'msg': 'OK', 'note': 'CORRECT'}"
      ]
     },
     "execution_count": 9,
     "metadata": {},
     "output_type": "execute_result"
    }
   ],
   "source": [
    "result = AIDevs_Client.submit_answer(token, function)\n",
    "result"
   ]
  },
  {
   "cell_type": "markdown",
   "metadata": {},
   "source": [
    "# whisper\n",
    "\n",
    "Korzystając z modelu Whisper wykonaj zadanie API (zgodnie z opisem na zadania.aidevs.pl) o nazwie whisper. W ramach zadania otrzymasz plik MP3 (15 sekund), który musisz wysłać do transkrypcji, a otrzymany z niej tekst odeślij jako rozwiązanie zadania."
   ]
  },
  {
   "cell_type": "code",
   "execution_count": 2,
   "metadata": {},
   "outputs": [],
   "source": [
    "task_name = \"whisper\""
   ]
  },
  {
   "cell_type": "code",
   "execution_count": 3,
   "metadata": {},
   "outputs": [
    {
     "data": {
      "text/plain": [
       "'https://zadania.aidevs.pl/data/mateusz.mp3'"
      ]
     },
     "execution_count": 3,
     "metadata": {},
     "output_type": "execute_result"
    }
   ],
   "source": [
    "token = AIDevs_Client.get_token(task_name)['token']\n",
    "audio_url = AIDevs_Client.get_task(token)['msg'].split()[-1]\n",
    "\n",
    "audio_url"
   ]
  },
  {
   "cell_type": "code",
   "execution_count": 4,
   "metadata": {},
   "outputs": [
    {
     "data": {
      "text/plain": [
       "'Cześć! Kiedy ostatnio korzystaliście z sztucznej inteligencji, czy zastanawialiście się nad tym, skąd czerpie ona swoją wiedzę? No pewnie, że tak, inaczej nie byłoby was tutaj na szkoleniu. Ale czy przemyśleliście możliwość dostosowania tej wiedzy do waszych własnych, indywidualnych potrzeb?'"
      ]
     },
     "execution_count": 4,
     "metadata": {},
     "output_type": "execute_result"
    }
   ],
   "source": [
    "# Function that transcribes audio from a given URL\n",
    "def transcribe(audio_url):\n",
    "    # Fetch the audio file\n",
    "    response = requests.get(audio_url)\n",
    "\n",
    "    # Create an in-memory binary stream to hold the audio data\n",
    "    audio_handler = io.BytesIO()\n",
    "    # Write the content of the response (audio data) into the stream\n",
    "    audio_handler.write(response.content)\n",
    "    # Assign a name to our in-memory file-like object\n",
    "    audio_handler.name = \"audio.mp3\"\n",
    "    # Move the cursor to the start of the stream\n",
    "    audio_handler.seek(0)\n",
    "\n",
    "    # Wrap the binary stream with BufferedReader to read data\n",
    "    file_to_send = io.BufferedReader(audio_handler)\n",
    "\n",
    "    # Use OpenAI's audio transcribe model to transcribe the audio file\n",
    "    transcript = OpenAIClient.audio_transcription(file_to_send)\n",
    "    # Return the transcribed text from the response\n",
    "    return transcript\n",
    "\n",
    "transcription_text = transcribe(audio_url)\n",
    "transcription_text\n"
   ]
  },
  {
   "cell_type": "code",
   "execution_count": 5,
   "metadata": {},
   "outputs": [
    {
     "data": {
      "text/plain": [
       "{'code': 0, 'msg': 'OK', 'note': 'CORRECT'}"
      ]
     },
     "execution_count": 5,
     "metadata": {},
     "output_type": "execute_result"
    }
   ],
   "source": [
    "result = AIDevs_Client.submit_answer(token, transcription_text)\n",
    "result"
   ]
  },
  {
   "cell_type": "markdown",
   "metadata": {},
   "source": [
    "# embedding\n",
    "\n",
    "Rozwiąż zadanie API o nawie embedding (instrukcja połączenia, jeśli dopiero zaczynasz) \n",
    "\n",
    "Korzystając z modelu text-embedding-ada-002 wygeneruj embedding dla frazy Hawaiian pizza — upewnij się, że to dokładnie to zdanie. Następnie prześlij wygenerowany embedding na endpoint /answer. Konkretnie musi być to format {\"answer\": [0.003750941, 0.0038711438, 0.0082909055, -0.008753223, -0.02073651, -0.018862579, -0.010596331, -0.022425512, ..., -0.026950065]}. Lista musi zawierać dokładnie 1536 elementów."
   ]
  },
  {
   "cell_type": "code",
   "execution_count": 2,
   "metadata": {},
   "outputs": [],
   "source": [
    "task_name = \"embedding\"\n",
    "token = AIDevs_Client.get_token(task_name)['token']"
   ]
  },
  {
   "cell_type": "code",
   "execution_count": 3,
   "metadata": {},
   "outputs": [],
   "source": [
    "text = \"Hawaiian pizza\"\n",
    "\n",
    "embedded_text = OpenAIClient.get_embedding(text)"
   ]
  },
  {
   "cell_type": "code",
   "execution_count": 4,
   "metadata": {},
   "outputs": [
    {
     "data": {
      "text/plain": [
       "list"
      ]
     },
     "execution_count": 4,
     "metadata": {},
     "output_type": "execute_result"
    }
   ],
   "source": [
    "type(embedded_text)"
   ]
  },
  {
   "cell_type": "code",
   "execution_count": 5,
   "metadata": {},
   "outputs": [
    {
     "data": {
      "text/plain": [
       "{'code': 0, 'msg': 'OK', 'note': 'CORRECT'}"
      ]
     },
     "execution_count": 5,
     "metadata": {},
     "output_type": "execute_result"
    }
   ],
   "source": [
    "result = AIDevs_Client.submit_answer(token, embedded_text)\n",
    "result"
   ]
  },
  {
   "cell_type": "markdown",
   "metadata": {},
   "source": [
    "# inprompt\n",
    "\n",
    "Skorzystaj z API zadania.aidevs.pl, aby pobrać dane zadania inprompt. Znajdziesz w niej dwie właściwości — input, czyli tablicę / listę zdań na temat różnych osób (każde z nich zawiera imię jakiejś osoby) oraz question będące pytaniem na temat jednej z tych osób. Lista jest zbyt duża, aby móc ją wykorzystać w jednym zapytaniu, więc dowolną techniką odfiltruj te zdania, które zawierają wzmiankę na temat osoby wspomnianej w pytaniu. Ostatnim krokiem jest wykorzystanie odfiltrowanych danych jako kontekst na podstawie którego model ma udzielić odpowiedzi na pytanie. Zatem: pobierz listę zdań oraz pytanie, skorzystaj z LLM, aby odnaleźć w pytaniu imię, programistycznie lub z pomocą no-code odfiltruj zdania zawierające to imię. Ostatecznie spraw by model odpowiedział na pytanie, a jego odpowiedź prześlij do naszego API w obiekcie JSON zawierającym jedną właściwość “answer”."
   ]
  },
  {
   "cell_type": "code",
   "execution_count": 60,
   "metadata": {},
   "outputs": [],
   "source": [
    "task_name = \"inprompt\""
   ]
  },
  {
   "cell_type": "code",
   "execution_count": 61,
   "metadata": {},
   "outputs": [
    {
     "data": {
      "text/plain": [
       "'co lubi jeść na śniadanie Alojzy?'"
      ]
     },
     "execution_count": 61,
     "metadata": {},
     "output_type": "execute_result"
    }
   ],
   "source": [
    "token = AIDevs_Client.get_token(task_name)['token']\n",
    "\n",
    "task = AIDevs_Client.get_task(token)\n",
    "people = task['input']\n",
    "question = task['question']\n",
    "\n",
    "question"
   ]
  },
  {
   "cell_type": "code",
   "execution_count": 62,
   "metadata": {},
   "outputs": [
    {
     "data": {
      "text/plain": [
       "'Alojzy'"
      ]
     },
     "execution_count": 62,
     "metadata": {},
     "output_type": "execute_result"
    }
   ],
   "source": [
    "#Extract name from the question\n",
    "\n",
    "prompt = f\"\"\"\n",
    "Extract name from the question, nothing more:\n",
    "{question}\n",
    "\"\"\"\n",
    "\n",
    "name = OpenAIClient.get_completion(prompt, model=\"gpt-3.5-turbo\")\n",
    "\n",
    "name"
   ]
  },
  {
   "cell_type": "code",
   "execution_count": 63,
   "metadata": {},
   "outputs": [
    {
     "data": {
      "text/plain": [
       "['Alojzy ma czarne oczy, krótkie włosy i pracuje jako prawnik, a na śniadanie najbardziej lubi jeść owsiankę']"
      ]
     },
     "execution_count": 63,
     "metadata": {},
     "output_type": "execute_result"
    }
   ],
   "source": [
    "#Find list item with contex about name\n",
    "\n",
    "contex = [sentence for sentence in people if name in sentence]\n",
    "\n",
    "contex"
   ]
  },
  {
   "cell_type": "code",
   "execution_count": 64,
   "metadata": {},
   "outputs": [
    {
     "data": {
      "text/plain": [
       "'Alojzy najbardziej lubi jeść owsiankę na śniadanie.'"
      ]
     },
     "execution_count": 64,
     "metadata": {},
     "output_type": "execute_result"
    }
   ],
   "source": [
    "#Answer the question\n",
    "\n",
    "prompt = f\"\"\"\n",
    "{contex}, {question}\n",
    "\"\"\"\n",
    "\n",
    "answer = OpenAIClient.get_completion(prompt)\n",
    "answer"
   ]
  },
  {
   "cell_type": "code",
   "execution_count": 65,
   "metadata": {},
   "outputs": [
    {
     "data": {
      "text/plain": [
       "{'code': 0, 'msg': 'OK', 'note': 'CORRECT'}"
      ]
     },
     "execution_count": 65,
     "metadata": {},
     "output_type": "execute_result"
    }
   ],
   "source": [
    "result = AIDevs_Client.submit_answer(token, answer)\n",
    "result"
   ]
  },
  {
   "cell_type": "markdown",
   "metadata": {},
   "source": [
    "# liar\n",
    "\n",
    "Jest to mechanizm, który mówi nie na temat w 1/3 przypadków. Twoje zadanie polega na tym, aby do endpointa /task/ wysłać swoje pytanie w języku angielskim (dowolne, np “What is capital of Poland?’) w polu o nazwie ‘question’ (metoda POST, jako zwykłe pole formularza, NIE JSON). System API odpowie na to pytanie (w polu ‘answer’) lub zacznie opowiadać o czymś zupełnie innym, zmieniając temat. Twoim zadaniem jest napisanie systemu filtrującego (Guardrails), który określi (YES/NO), czy odpowiedź jest na temat. Następnie swój werdykt zwróć do systemu sprawdzającego jako pojedyncze słowo YES/NO. Jeśli pobierzesz treść zadania przez API bez wysyłania żadnych dodatkowych parametrów, otrzymasz komplet podpowiedzi. Skąd wiedzieć, czy odpowiedź jest ‘na temat’? Jeśli Twoje pytanie dotyczyło stolicy Polski, a w odpowiedzi otrzymasz spis zabytków w Rzymie, to odpowiedź, którą należy wysłać do API to NO."
   ]
  },
  {
   "cell_type": "code",
   "execution_count": 48,
   "metadata": {},
   "outputs": [],
   "source": [
    "task_name = \"liar\""
   ]
  },
  {
   "cell_type": "code",
   "execution_count": 49,
   "metadata": {},
   "outputs": [
    {
     "data": {
      "text/plain": [
       "'What is the moon?'"
      ]
     },
     "execution_count": 49,
     "metadata": {},
     "output_type": "execute_result"
    }
   ],
   "source": [
    "question = \"What is the moon?\"\n",
    "#question = OpenAIClient.get_completion(\"respond with random question\", model=\"gpt-3.5-turbo\", max_tokens=100, temperature=0.8)\n",
    "\n",
    "question"
   ]
  },
  {
   "cell_type": "code",
   "execution_count": 50,
   "metadata": {},
   "outputs": [],
   "source": [
    "def ask_question(token, question):\n",
    "    url = f\"{BASE_URL}/task/{token}\"\n",
    "    payload = {\n",
    "        \"question\": question\n",
    "    }\n",
    "    response = requests.post(url, data=payload)  # Using data instead of json\n",
    "    if response.status_code == 200:\n",
    "        return response.json()  # Return the entire JSON response\n",
    "    else:\n",
    "        print(f\"Error asking question: {response.text}\")\n",
    "        return None"
   ]
  },
  {
   "cell_type": "code",
   "execution_count": 51,
   "metadata": {},
   "outputs": [
    {
     "name": "stdout",
     "output_type": "stream",
     "text": [
      "What is the moon? : In ancient times, spectators were seated according to their social status, with the emperor and other high-ranking officials sitting closest to the action.\n"
     ]
    }
   ],
   "source": [
    "token = AIDevs_Client.get_token(task_name)['token']\n",
    "\n",
    "answer_to_question = ask_question(token, question)['answer']\n",
    "\n",
    "print(question + \" : \" + answer_to_question)"
   ]
  },
  {
   "cell_type": "markdown",
   "metadata": {},
   "source": [
    "Guardrails"
   ]
  },
  {
   "cell_type": "code",
   "execution_count": 52,
   "metadata": {},
   "outputs": [
    {
     "data": {
      "text/plain": [
       "'NO'"
      ]
     },
     "execution_count": 52,
     "metadata": {},
     "output_type": "execute_result"
    }
   ],
   "source": [
    "prompt = f\"\"\"\n",
    "Given the question '{question}' and the answer '{answer_to_question}', is the answer relevant? Respond with YES or NO.\n",
    "\"\"\"\n",
    "\n",
    "response = OpenAIClient.get_completion(prompt, model=\"gpt-3.5-turbo\", max_tokens=100, temperature=0.2)\n",
    "\n",
    "response.strip()  # Stripping to ensure there's no extra whitespace"
   ]
  },
  {
   "cell_type": "code",
   "execution_count": 53,
   "metadata": {},
   "outputs": [
    {
     "data": {
      "text/plain": [
       "{'code': 0, 'msg': 'OK', 'note': 'CORRECT'}"
      ]
     },
     "execution_count": 53,
     "metadata": {},
     "output_type": "execute_result"
    }
   ],
   "source": [
    "AIDevs_Client.submit_answer(token, response)"
   ]
  },
  {
   "cell_type": "markdown",
   "metadata": {},
   "source": [
    "# blogger\n",
    "\n",
    "Napisz wpis na bloga (w języku polskim) na temat przyrządzania pizzy Margherity. Zadanie w API nazywa się ”blogger”. Jako wejście otrzymasz spis 4 rozdziałów, które muszą pojawić się we wpisie. Jako odpowiedź musisz zwrócić tablicę (w formacie JSON) złożoną z 4 pól reprezentujących te cztery rozdziały."
   ]
  },
  {
   "cell_type": "code",
   "execution_count": 31,
   "metadata": {},
   "outputs": [],
   "source": [
    "task_name = \"blogger\""
   ]
  },
  {
   "cell_type": "code",
   "execution_count": 32,
   "metadata": {},
   "outputs": [
    {
     "name": "stdout",
     "output_type": "stream",
     "text": [
      "['Wstęp: kilka słów na temat historii pizzy', 'Niezbędne składniki na pizzę', 'Robienie pizzy', 'Pieczenie pizzy w piekarniku']\n"
     ]
    }
   ],
   "source": [
    "token = AIDevs_Client.get_token(task_name)['token']\n",
    "task = AIDevs_Client.get_task(token)['blog']\n",
    "\n",
    "print(task)"
   ]
  },
  {
   "cell_type": "code",
   "execution_count": 33,
   "metadata": {},
   "outputs": [
    {
     "name": "stdout",
     "output_type": "stream",
     "text": [
      "['Pizza, znana i uwielbiana na całym świecie, ma swoje korzenie we Włoszech. Choć jej dokładne pochodzenie jest tematem wielu debat, to najpopularniejsza teoria mówi, że pizza, jaką znamy dzisiaj, narodziła się w Neapolu w XIX wieku. Początkowo była to prostota kuchnia ubogich, składająca się z placka z ciasta posmarowanego sosem pomidorowym i posypanego serem. Prawdziwy przełom nastąpił w 1889 roku, kiedy to Raffaele Esposito, znany neapolitański piekarz, stworzył pizzę margheritę na cześć królowej Włoch - Małgorzaty Sabaudzkiej. Pizza, ozdobiona kolorami włoskiej flagi: zielonym bazylią, białym mozzarellą i czerwonym sosem pomidorowym, stała się symbolem narodowym i zyskała międzynarodową sławę. Od tamtej pory pizza stała się jednym z najbardziej rozpoznawalnych i uniwersalnych dań', 'Tworzenie idealnej pizzy margherita zaczyna się od zgromadzenia właściwych składników. Podstawą jest ciasto na pizzę, które powinno być lekkie i chrupiące. Następnie, potrzebujesz sosu pomidorowego - najlepiej zrobionego z dojrzałych, soczystych pomidorów. Ser mozzarella to kolejny kluczowy składnik; jego delikatny, kremowy smak doskonale komponuje się z sosem pomidorowym. Na koniec, nie zapomnij o świeżych liściach bazylii, które dodają pizzy margherita jej charakterystycznego, aromatycznego smaku. Opcjonalnie, możesz dodać również odrobinę oliwy z oliwek i szczyptę soli.', 'Robienie pizzy margherita to prawdziwa sztuka, która wymaga nie tylko odpowiednich składników, ale także umiejętności i cierpliwości. Prawdziwa pizza margherita powinna składać się z cienkiego, chrupiącego ciasta, świeżych pomidorów, bazylii i mozzarelli. Kluczem do jej smaku jest używanie najwyższej jakości składników. Ciasto powinno być dobrze wyrobione i cienko rozwałkowane, a następnie posmarowane sosem pomidorowym. Następnie dodajemy plastry mozzarelli i listki bazylii. Pizza powinna być pieczona w bardzo gorącym piecu, aby ciasto było chrupiące, a ser dobrze się roztopił. Prawdziwa pizza margherita to prosta, ale niezwykle smaczna potrawa, która zasługuje na to, aby poświęcić jej trochę czasu i uwagi.', 'Pieczenie pizzy margherita w piekarniku to sztuka, która wymaga precyzji i cierpliwości. Kluczowym elementem jest odpowiednia temperatura - idealnie, powinna wynosić około 250 stopni Celsjusza. W tej temperaturze, ciasto staje się chrupiące, a składniki na wierzchu - świeże pomidory, mozzarella i bazylię - zyskują idealną konsystencję i smak. Ważne jest, aby nie otwierać piekarnika podczas pieczenia, ponieważ może to spowodować spadek temperatury i negatywnie wpłynąć na końcowy efekt. Cały proces pieczenia powinien trwać około 10-15 minut - wystarczająco długo, aby ciasto było dobrze upieczone, ale nie za długo, aby składniki na wierzchu nie straciły swojej świeżości i smaku.']\n"
     ]
    }
   ],
   "source": [
    "prompt = \"\"\"\n",
    "        You are a pizza expert that writes a blog about pizza margherita in polish.\n",
    "        Write a short paragraph about the given topic:\n",
    "        \"\"\"\n",
    "        \n",
    "response = OpenAIClient.get_completion(prompt, model=\"gpt-3.5-turbo\", max_tokens=1000, temperature=0.3)\n",
    "\n",
    "\n",
    "blog_post = [OpenAIClient.get_completion(prompt+topic) for topic in task]\n",
    "\n",
    "print(blog_post)"
   ]
  },
  {
   "cell_type": "code",
   "execution_count": 34,
   "metadata": {},
   "outputs": [
    {
     "name": "stdout",
     "output_type": "stream",
     "text": [
      "{'code': 0, 'msg': 'OK', 'note': 'CORRECT'}\n"
     ]
    }
   ],
   "source": [
    "result = AIDevs_Client.submit_answer(token, blog_post)\n",
    "\n",
    "print(result)"
   ]
  },
  {
   "cell_type": "markdown",
   "metadata": {},
   "source": [
    "# moderation\n",
    "\n",
    "Zastosuj wiedzę na temat działania modułu do moderacji treści i rozwiąż zadanie o nazwie “moderation” z użyciem naszego API do sprawdzania rozwiązań. Zadanie polega na odebraniu tablicy zdań (4 sztuki), a następnie zwróceniu tablicy z informacją, które zdania nie przeszły moderacji. Jeśli moderacji nie przeszło pierwsze i ostatnie zdanie, to odpowiedź powinna brzmieć [1,0,0,1]. Pamiętaj, aby w polu ‘answer’ zwrócić tablicę w JSON, a nie czystego stringa."
   ]
  },
  {
   "cell_type": "code",
   "execution_count": 2,
   "metadata": {},
   "outputs": [],
   "source": [
    "task_name = \"moderation\""
   ]
  },
  {
   "cell_type": "code",
   "execution_count": 3,
   "metadata": {},
   "outputs": [
    {
     "name": "stdout",
     "output_type": "stream",
     "text": [
      "['majonez Winiary jest lepszy od Kieleckiego', 'azjaci są głupi i brzydcy i nie powinni żyć', 'Sasha.Grey.s3x.p0rn.extreme-interracial.S03E12.DVDRip.mp4', 'ten gość musi zginąć. Nie pozwole sobię na obrażanie mnie.']\n"
     ]
    }
   ],
   "source": [
    "token = AIDevs_Client.get_token(task_name)['token']\n",
    "task = AIDevs_Client.get_task(token)['input']\n",
    "\n",
    "print(task)"
   ]
  },
  {
   "cell_type": "markdown",
   "metadata": {},
   "source": [
    "Moderation"
   ]
  },
  {
   "cell_type": "code",
   "execution_count": 4,
   "metadata": {},
   "outputs": [],
   "source": [
    "# Initialize an empty list to hold the moderation results\n",
    "moderation_results = []\n",
    "\n",
    "# Iterate through each item in the task list\n",
    "moderation_results = [OpenAIClient.moderate_content(item) for item in task]"
   ]
  },
  {
   "cell_type": "code",
   "execution_count": 5,
   "metadata": {},
   "outputs": [
    {
     "data": {
      "text/plain": [
       "[0, 1, 1, 1]"
      ]
     },
     "execution_count": 5,
     "metadata": {},
     "output_type": "execute_result"
    }
   ],
   "source": [
    "moderation_results\n"
   ]
  },
  {
   "cell_type": "code",
   "execution_count": 6,
   "metadata": {},
   "outputs": [
    {
     "name": "stdout",
     "output_type": "stream",
     "text": [
      "{'code': 0, 'msg': 'OK', 'note': 'CORRECT'}\n"
     ]
    }
   ],
   "source": [
    "result = AIDevs_Client.submit_answer(token, moderation_results)\n",
    "\n",
    "print(result)"
   ]
  },
  {
   "attachments": {},
   "cell_type": "markdown",
   "metadata": {},
   "source": [
    "# helloapi\n",
    "\n",
    "Komunikacja z API odbywa się z pomocą kodu oraz formatu JSON, a każde z zadań składa się z trzech części:\n",
    "\n",
    "autoryzacji\n",
    "\n",
    "pobierania danych wejściowych (string lub tablica obiektów)\n",
    "\n",
    "odesłania odpowiedzi (właściwość answer)"
   ]
  },
  {
   "cell_type": "code",
   "execution_count": 41,
   "metadata": {},
   "outputs": [],
   "source": [
    "task_name = \"helloapi\""
   ]
  },
  {
   "cell_type": "code",
   "execution_count": 42,
   "metadata": {},
   "outputs": [
    {
     "name": "stdout",
     "output_type": "stream",
     "text": [
      "{'code': 0, 'msg': 'OK', 'note': 'CORRECT'}\n"
     ]
    }
   ],
   "source": [
    "token = AIDevs_Client.get_token(task_name)['token']\n",
    "cookie = AIDevs_Client.get_task(token)['cookie']\n",
    "result = AIDevs_Client.submit_answer(token, cookie)\n",
    "\n",
    "print(result)\n"
   ]
  }
 ],
 "metadata": {
  "kernelspec": {
   "display_name": "base",
   "language": "python",
   "name": "python3"
  },
  "language_info": {
   "codemirror_mode": {
    "name": "ipython",
    "version": 3
   },
   "file_extension": ".py",
   "mimetype": "text/x-python",
   "name": "python",
   "nbconvert_exporter": "python",
   "pygments_lexer": "ipython3",
   "version": "3.9.12"
  },
  "orig_nbformat": 4
 },
 "nbformat": 4,
 "nbformat_minor": 2
}
